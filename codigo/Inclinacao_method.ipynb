version https://git-lfs.github.com/spec/v1
oid sha256:e1ee4862846f5c8de63d70e3baacf2b90cd9a117c8a5cdfdc76a5f1b49028bc5
size 383494
