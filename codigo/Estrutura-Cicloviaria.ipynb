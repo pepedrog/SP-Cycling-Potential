{
 "cells": [
  {
   "cell_type": "code",
   "execution_count": 1,
   "id": "5ab81857",
   "metadata": {},
   "outputs": [
    {
     "name": "stderr",
     "output_type": "stream",
     "text": [
      "/home/pedro/.local/lib/python3.8/site-packages/geopandas/_compat.py:106: UserWarning: The Shapely GEOS version (3.8.0-CAPI-1.13.1 ) is incompatible with the GEOS version PyGEOS was compiled with (3.9.0-CAPI-1.16.2). Conversions between both will be slow.\n",
      "  warnings.warn(\n"
     ]
    }
   ],
   "source": [
    "%load_ext autoreload\n",
    "%autoreload 2\n",
    "import saopaulo.load_trips as sptr\n",
    "import saopaulo.maps_aux as aux\n",
    "import saopaulo.cycling_infrastructure as cinfra\n",
    "import saopaulo.choropleth as spchoro\n",
    "#import saopaulo.choropleth_folium as spchoro\n",
    "\n",
    "import saopaulo.sp_grid as gr\n",
    "\n",
    "from bikescience.intersect_ways import geometry_intersection_length\n",
    "\n",
    "import geopandas as gpd\n",
    "import json\n",
    "import pandas as pd\n",
    "import numpy as np\n",
    "from ipywidgets import interact_manual, widgets, fixed\n",
    "from IPython.core.display import display, HTML, clear_output\n",
    "import folium\n",
    "\n",
    "import warnings\n",
    "import requests\n",
    "import os\n",
    "import fnmatch as fnm\n",
    "warnings.simplefilter('ignore')\n",
    "\n",
    "gr.SP_LAT = -23.63\n",
    "gr.SP_LON = -46.55\n"
   ]
  },
  {
   "cell_type": "code",
   "execution_count": 2,
   "id": "d57c3572",
   "metadata": {},
   "outputs": [],
   "source": [
    "distritos = [\n",
    "    'Bela Vista', 'Bom Retiro', 'Cambuci', 'Consolação', 'Liberdade', \n",
    "    'República', 'Santa Cecília', 'Sé','Butantã', 'Morumbi', 'Raposo Tavares', \n",
    "    'Rio Pequeno', 'Vila Sônia', 'Barra Funda', 'Jaguara', 'Jaguaré', 'Lapa', \n",
    "    'Perdizes', 'Vila Leopoldina', 'Alto de Pinheiros', 'Itaim Bibi', \n",
    "    'Jardim Paulista', 'Pinheiros','Aricanduva', 'Carrão', 'Vila Formosa',\n",
    "    'Água Rasa', 'Belém', 'Brás', 'Mooca', 'Pari', 'Tatuapé', 'Artur Alvim',\n",
    "    'Cangaíba', 'Penha', 'Vila Matilde', 'São Lucas', 'Sapopemba',\n",
    "    'Vila Prudente','Cidade Tiradentes', 'Ermelino Matarazzo', 'Ponte Rasa',\n",
    "    'Guaianases', 'Lajeado', 'Itaim Paulista', 'Vila Curuçá', 'Cidade Líder',\n",
    "    'Itaquera', 'José Bonifácio', 'Parque do Carmo', 'Iguatemi', 'São Mateus',\n",
    "    'São Rafael', 'Jardim Helena', 'São Miguel', 'Vila Jacuí','Cachoeirinha', \n",
    "    'Casa Verde', 'Limão', 'Brasilândia', 'Freguesia do Ó', 'Anhanguera', \n",
    "    'Perus', 'Jaraguá', 'Pirituba', 'São Domingos','Jaçanã', 'Tremembé', \n",
    "    'Mandaqui', 'Santana', 'Tucuruvi', 'Vila Guilherme', 'Vila Maria', \n",
    "    'Vila Medeiros','Cursino', 'Ipiranga', 'Sacomã', 'Jabaquara', 'Moema', \n",
    "    'Saúde', 'Vila Mariana', 'Campo Limpo', 'Capão Redondo', 'Vila Andrade', \n",
    "    'Cidade Dutra', 'Grajaú', 'Socorro', 'Cidade Ademar', 'Pedreira', \n",
    "    'Jardim Ângela', 'Jardim São Luís', 'Marsilac', 'Parelheiros',\n",
    "    'Campo Belo', 'Campo Grande', 'Santo Amaro']"
   ]
  },
  {
   "cell_type": "code",
   "execution_count": 3,
   "id": "7ea2fb24",
   "metadata": {},
   "outputs": [
    {
     "data": {
      "text/html": [
       "<div>\n",
       "<style scoped>\n",
       "    .dataframe tbody tr th:only-of-type {\n",
       "        vertical-align: middle;\n",
       "    }\n",
       "\n",
       "    .dataframe tbody tr th {\n",
       "        vertical-align: top;\n",
       "    }\n",
       "\n",
       "    .dataframe thead th {\n",
       "        text-align: right;\n",
       "    }\n",
       "</style>\n",
       "<table border=\"1\" class=\"dataframe\">\n",
       "  <thead>\n",
       "    <tr style=\"text-align: right;\">\n",
       "      <th></th>\n",
       "      <th>NumeroZona</th>\n",
       "      <th>NomeZona</th>\n",
       "      <th>NumeroMuni</th>\n",
       "      <th>NomeMunici</th>\n",
       "      <th>NumDistrit</th>\n",
       "      <th>NomeDistri</th>\n",
       "      <th>Area_ha_2</th>\n",
       "      <th>geometry</th>\n",
       "    </tr>\n",
       "  </thead>\n",
       "  <tbody>\n",
       "    <tr>\n",
       "      <th>338</th>\n",
       "      <td>339</td>\n",
       "      <td>Cidade Universitária</td>\n",
       "      <td>36</td>\n",
       "      <td>São Paulo</td>\n",
       "      <td>12</td>\n",
       "      <td>Butantã</td>\n",
       "      <td>584.56</td>\n",
       "      <td>POLYGON Z ((321979.631 7393581.866 0.000, 3219...</td>\n",
       "    </tr>\n",
       "    <tr>\n",
       "      <th>339</th>\n",
       "      <td>340</td>\n",
       "      <td>Butantã</td>\n",
       "      <td>36</td>\n",
       "      <td>São Paulo</td>\n",
       "      <td>12</td>\n",
       "      <td>Butantã</td>\n",
       "      <td>207.11</td>\n",
       "      <td>POLYGON Z ((324176.344 7392045.849 0.000, 3241...</td>\n",
       "    </tr>\n",
       "    <tr>\n",
       "      <th>340</th>\n",
       "      <td>341</td>\n",
       "      <td>Jardim Caxingui</td>\n",
       "      <td>36</td>\n",
       "      <td>São Paulo</td>\n",
       "      <td>12</td>\n",
       "      <td>Butantã</td>\n",
       "      <td>180.08</td>\n",
       "      <td>POLYGON Z ((323783.329 7391868.109 0.000, 3239...</td>\n",
       "    </tr>\n",
       "    <tr>\n",
       "      <th>341</th>\n",
       "      <td>342</td>\n",
       "      <td>Jardim Bonfiglioli</td>\n",
       "      <td>36</td>\n",
       "      <td>São Paulo</td>\n",
       "      <td>12</td>\n",
       "      <td>Butantã</td>\n",
       "      <td>319.97</td>\n",
       "      <td>POLYGON Z ((322930.124 7390110.600 0.000, 3227...</td>\n",
       "    </tr>\n",
       "  </tbody>\n",
       "</table>\n",
       "</div>"
      ],
      "text/plain": [
       "     NumeroZona              NomeZona  NumeroMuni NomeMunici  NumDistrit  \\\n",
       "338         339  Cidade Universitária          36  São Paulo          12   \n",
       "339         340               Butantã          36  São Paulo          12   \n",
       "340         341       Jardim Caxingui          36  São Paulo          12   \n",
       "341         342    Jardim Bonfiglioli          36  São Paulo          12   \n",
       "\n",
       "    NomeDistri  Area_ha_2                                           geometry  \n",
       "338    Butantã     584.56  POLYGON Z ((321979.631 7393581.866 0.000, 3219...  \n",
       "339    Butantã     207.11  POLYGON Z ((324176.344 7392045.849 0.000, 3241...  \n",
       "340    Butantã     180.08  POLYGON Z ((323783.329 7391868.109 0.000, 3239...  \n",
       "341    Butantã     319.97  POLYGON Z ((322930.124 7390110.600 0.000, 3227...  "
      ]
     },
     "metadata": {},
     "output_type": "display_data"
    }
   ],
   "source": [
    "zone_shp = gpd.read_file('../data/sao-paulo/od/shapes/Zonas_2017_region.shp')\n",
    "display(zone_shp.loc[zone_shp['NomeDistri'] == 'Butantã'])"
   ]
  },
  {
   "cell_type": "code",
   "execution_count": 3,
   "id": "16e6c0d1",
   "metadata": {},
   "outputs": [
    {
     "data": {
      "text/html": [
       "<div>\n",
       "<style scoped>\n",
       "    .dataframe tbody tr th:only-of-type {\n",
       "        vertical-align: middle;\n",
       "    }\n",
       "\n",
       "    .dataframe tbody tr th {\n",
       "        vertical-align: top;\n",
       "    }\n",
       "\n",
       "    .dataframe thead th {\n",
       "        text-align: right;\n",
       "    }\n",
       "</style>\n",
       "<table border=\"1\" class=\"dataframe\">\n",
       "  <thead>\n",
       "    <tr style=\"text-align: right;\">\n",
       "      <th></th>\n",
       "      <th>NumeroDist</th>\n",
       "      <th>NomeDistri</th>\n",
       "      <th>Area_ha</th>\n",
       "      <th>geometry</th>\n",
       "    </tr>\n",
       "  </thead>\n",
       "  <tbody>\n",
       "    <tr>\n",
       "      <th>0</th>\n",
       "      <td>1</td>\n",
       "      <td>Água Rasa</td>\n",
       "      <td>715.05</td>\n",
       "      <td>POLYGON ((-46.55380 -23.56843, -46.55387 -23.5...</td>\n",
       "    </tr>\n",
       "    <tr>\n",
       "      <th>1</th>\n",
       "      <td>2</td>\n",
       "      <td>Alto de Pinheiros</td>\n",
       "      <td>751.26</td>\n",
       "      <td>POLYGON ((-46.69209 -23.54631, -46.69257 -23.5...</td>\n",
       "    </tr>\n",
       "    <tr>\n",
       "      <th>2</th>\n",
       "      <td>3</td>\n",
       "      <td>Anhanguera</td>\n",
       "      <td>3339.95</td>\n",
       "      <td>POLYGON ((-46.76082 -23.42733, -46.76088 -23.4...</td>\n",
       "    </tr>\n",
       "    <tr>\n",
       "      <th>3</th>\n",
       "      <td>4</td>\n",
       "      <td>Aricanduva</td>\n",
       "      <td>686.26</td>\n",
       "      <td>POLYGON ((-46.50153 -23.57941, -46.50154 -23.5...</td>\n",
       "    </tr>\n",
       "    <tr>\n",
       "      <th>4</th>\n",
       "      <td>5</td>\n",
       "      <td>Artur Alvim</td>\n",
       "      <td>653.04</td>\n",
       "      <td>POLYGON ((-46.47300 -23.54029, -46.47302 -23.5...</td>\n",
       "    </tr>\n",
       "    <tr>\n",
       "      <th>...</th>\n",
       "      <td>...</td>\n",
       "      <td>...</td>\n",
       "      <td>...</td>\n",
       "      <td>...</td>\n",
       "    </tr>\n",
       "    <tr>\n",
       "      <th>129</th>\n",
       "      <td>130</td>\n",
       "      <td>São Caetano do Sul</td>\n",
       "      <td>1536.53</td>\n",
       "      <td>POLYGON ((-46.58317 -23.64088, -46.58326 -23.6...</td>\n",
       "    </tr>\n",
       "    <tr>\n",
       "      <th>130</th>\n",
       "      <td>131</td>\n",
       "      <td>São Lourenço da Serra</td>\n",
       "      <td>18674.34</td>\n",
       "      <td>POLYGON ((-46.98852 -23.79984, -46.98847 -23.7...</td>\n",
       "    </tr>\n",
       "    <tr>\n",
       "      <th>131</th>\n",
       "      <td>132</td>\n",
       "      <td>Suzano</td>\n",
       "      <td>20666.94</td>\n",
       "      <td>POLYGON ((-46.38321 -23.61775, -46.38318 -23.6...</td>\n",
       "    </tr>\n",
       "    <tr>\n",
       "      <th>132</th>\n",
       "      <td>133</td>\n",
       "      <td>Taboão da Serra</td>\n",
       "      <td>2043.37</td>\n",
       "      <td>POLYGON ((-46.81819 -23.63701, -46.82138 -23.6...</td>\n",
       "    </tr>\n",
       "    <tr>\n",
       "      <th>133</th>\n",
       "      <td>134</td>\n",
       "      <td>Vargem Grande Paulista</td>\n",
       "      <td>4257.94</td>\n",
       "      <td>POLYGON ((-46.99444 -23.67076, -46.99479 -23.6...</td>\n",
       "    </tr>\n",
       "  </tbody>\n",
       "</table>\n",
       "<p>134 rows × 4 columns</p>\n",
       "</div>"
      ],
      "text/plain": [
       "     NumeroDist              NomeDistri   Area_ha  \\\n",
       "0             1               Água Rasa    715.05   \n",
       "1             2       Alto de Pinheiros    751.26   \n",
       "2             3              Anhanguera   3339.95   \n",
       "3             4              Aricanduva    686.26   \n",
       "4             5             Artur Alvim    653.04   \n",
       "..          ...                     ...       ...   \n",
       "129         130      São Caetano do Sul   1536.53   \n",
       "130         131   São Lourenço da Serra  18674.34   \n",
       "131         132                  Suzano  20666.94   \n",
       "132         133         Taboão da Serra   2043.37   \n",
       "133         134  Vargem Grande Paulista   4257.94   \n",
       "\n",
       "                                              geometry  \n",
       "0    POLYGON ((-46.55380 -23.56843, -46.55387 -23.5...  \n",
       "1    POLYGON ((-46.69209 -23.54631, -46.69257 -23.5...  \n",
       "2    POLYGON ((-46.76082 -23.42733, -46.76088 -23.4...  \n",
       "3    POLYGON ((-46.50153 -23.57941, -46.50154 -23.5...  \n",
       "4    POLYGON ((-46.47300 -23.54029, -46.47302 -23.5...  \n",
       "..                                                 ...  \n",
       "129  POLYGON ((-46.58317 -23.64088, -46.58326 -23.6...  \n",
       "130  POLYGON ((-46.98852 -23.79984, -46.98847 -23.7...  \n",
       "131  POLYGON ((-46.38321 -23.61775, -46.38318 -23.6...  \n",
       "132  POLYGON ((-46.81819 -23.63701, -46.82138 -23.6...  \n",
       "133  POLYGON ((-46.99444 -23.67076, -46.99479 -23.6...  \n",
       "\n",
       "[134 rows x 4 columns]"
      ]
     },
     "metadata": {},
     "output_type": "display_data"
    }
   ],
   "source": [
    "# loading data\n",
    "\n",
    "# SIRGAS 2000 / UTM zone 23S\n",
    "# http://www.processamentodigital.com.br/2013/07/27/lista-dos-codigos-epsg-mais-utilizados-no-brasil/\n",
    "\n",
    "zone_shp = gpd.read_file('../data/sao-paulo/od/shapes/Distritos_2017_region.shp')\n",
    "zone_shp.crs = {'init': 'epsg:31983'}  \n",
    "zone_shp.to_crs(epsg='4326', inplace=True)\n",
    "\n",
    "display(zone_shp)\n",
    "# converting to km^2\n",
    "zone_shp['Area_ha_2'] = zone_shp['Area_ha'] / 100\n",
    "zone_shp['NumeroZona'] = zone_shp['NumeroDist']\n",
    "zone_shp['NumeroMuni'] = 0\n",
    "\n",
    "numeroMuni = []\n",
    "for _, d in zone_shp.iterrows():\n",
    "    if d['NomeDistri'] in distritos:\n",
    "        numeroMuni.append(36)\n",
    "    else:\n",
    "        numeroMuni.append(0)\n",
    "zone_shp['NumeroMuni'] = numeroMuni\n",
    "\n",
    "protected_lanes = cinfra.load_protected_lanes('../data/sao-paulo/infraestrutura-cicloviaria/cet/Ciclovias.shp')\n",
    "bike_lanes = cinfra.load_bike_lanes('../data/sao-paulo/infraestrutura-cicloviaria/cet/Ciclovias.shp')\n",
    "sharrow_lanes = cinfra.load_sharrow_lanes('../data/sao-paulo/infraestrutura-cicloviaria/cet/Ciclorrotas.shp')\n",
    "\n",
    "lanes = \\\n",
    "        gpd.read_file('../data/sao-paulo/geosampa/SIRGAS_SHP_logradouronbl/SIRGAS_SHP_logradouronbl.shp')\n",
    "lanes.crs = {'init': 'epsg:31983'}  \n",
    "lanes.to_crs(epsg='4326', inplace=True)\n"
   ]
  },
  {
   "cell_type": "code",
   "execution_count": 18,
   "id": "7f2d3a81",
   "metadata": {},
   "outputs": [],
   "source": [
    "# Processing data per zone (may take some minutes)\n",
    "zone_shp = geometry_intersection_length(zone_shp, 'NumeroZona', protected_lanes, 'protected_length')\n",
    "zone_shp = geometry_intersection_length(zone_shp, 'NumeroZona', bike_lanes, 'bike_lane_length')\n",
    "zone_shp = geometry_intersection_length(zone_shp, 'NumeroZona', sharrow_lanes, 'sharrow_length')\n",
    "#zone_shp['sharrow_length'] = 0\n",
    "zone_shp['lane_length'] = 0\n",
    "#zone_shp = geometry_intersection_length(zone_shp, 'NumeroZona', lanes, 'lane_length')"
   ]
  },
  {
   "cell_type": "code",
   "execution_count": 24,
   "id": "ace7cc78",
   "metadata": {},
   "outputs": [],
   "source": [
    "### funcoes auxiliares   \n",
    "\n",
    "colors = [('vermelho', 'red'), ('azul', 'blue'), ('verde', 'green'),  \n",
    "          ('preto', 'black'), ('amarelo', 'gold'), ('roxo', 'purple'),\n",
    "          ('vinho', 'crimson'), ('white', 'white')]\n",
    "#colors = [('amarelo vermelho', 'YlOrRd'), ('amarelo marrom', 'YlOrBr'), ('vermelho', 'OrRd') ]\n",
    "\n",
    "def show_choropleth_widgets(title, value_function, zones):\n",
    "    # transform the lambda code in string, so we can pass as a string widget\n",
    "    #pass the parameters as hidden widgets\n",
    "    im = interact_manual(\n",
    "        plot_bike_lanes_choropleth,\n",
    "        geodf_zones = fixed(zones),\n",
    "        value_function = fixed(value_function),\n",
    "        title = fixed(title),\n",
    "        color = widgets.Dropdown(options = colors, \n",
    "                                 description = 'Cor'),\n",
    "        consider_protected = widgets.Checkbox(value=True, description = 'Considerar Ciclovias'),\n",
    "        consider_bike_lane = widgets.Checkbox(value=True, description = 'Considerar Ciclofaixas'),\n",
    "        consider_sharrow = widgets.Checkbox(value=True, description = 'Considerar Ciclorrotas'),\n",
    "        plot_rmsp = widgets.Checkbox(value=True, description = 'Calcular RMSP')\n",
    "    )\n",
    "    im.widget.children[5].description = 'Gerar o mapa'\n",
    "\n",
    "def plot_bike_lanes_choropleth(title, color, value_function, geodf_zones,\n",
    "                               consider_protected = True, consider_bike_lane = True, consider_sharrow = True, \n",
    "                               plot_rmsp = False):\n",
    "    geodf_zones['bike_length'] = 0\n",
    "    if consider_protected:\n",
    "        geodf_zones['bike_length'] += geodf_zones['protected_length']\n",
    "    if consider_bike_lane:\n",
    "        geodf_zones['bike_length'] += geodf_zones['bike_lane_length']\n",
    "    if consider_sharrow:\n",
    "        print('aqui')\n",
    "        geodf_zones['bike_length'] += geodf_zones['sharrow_length']\n",
    "    \n",
    "    tooltip_columns = ['NomeDistri', 'Area_ha_2', 'lane_length', 'bike_length', \n",
    "                     'protected_length', 'bike_lane_length', 'sharrow_length']\n",
    "    tooltip_aliases = ['Distrito', 'Área (km2)', 'Malha viária (km)', 'Malha cicloviária (km)', \n",
    "                      '..Ciclovias (km)', '..Ciclofaixas (km)', '..Ciclorrotas (km)']\n",
    "    fmap = gr.map_around_sp(the_grid=None,zoom=10,plot_grid=False)\n",
    "    spchoro.plot_choropleth(fmap, title, color, value_function, geodf_zones, \n",
    "                            tooltip_columns, tooltip_aliases)\n",
    "    cinfra.plot_cycling_infra(fmap, protected_lanes, bike_lanes, sharrow_lanes, 'red', 'orange')\n",
    "    \n",
    "    fmap.zoom_control = False\n",
    "    folium.LayerControl().add_to(fmap)\n",
    "    file = 'maps/' + title.replace(' ', '_') + '.html'\n",
    "    fmap.save(file)\n",
    "    display(HTML('Salvo em <a href=\"' + file + '\" target=\"_blank\">' + file + '</a>'))\n",
    "    display(fmap)"
   ]
  },
  {
   "cell_type": "code",
   "execution_count": 26,
   "id": "a479842c",
   "metadata": {
    "scrolled": false
   },
   "outputs": [
    {
     "data": {
      "application/vnd.jupyter.widget-view+json": {
       "model_id": "1b547588b8c343b49bd844a8769064ae",
       "version_major": 2,
       "version_minor": 0
      },
      "text/plain": [
       "interactive(children=(Dropdown(description='Cor', options=(('vermelho', 'red'), ('azul', 'blue'), ('verde', 'g…"
      ]
     },
     "metadata": {},
     "output_type": "display_data"
    }
   ],
   "source": [
    "# Obtendo a km de ciclovias por zona\n",
    "show_choropleth_widgets(title = 'São Paulo cycling infrastructure',\n",
    "                        value_function = lambda x : x['bike_length'],\n",
    "                        zones = zone_shp)"
   ]
  },
  {
   "cell_type": "code",
   "execution_count": 128,
   "id": "d9035cd4",
   "metadata": {},
   "outputs": [
    {
     "data": {
      "application/vnd.jupyter.widget-view+json": {
       "model_id": "889702a485814cd0b73d51d36890e81d",
       "version_major": 2,
       "version_minor": 0
      },
      "text/plain": [
       "interactive(children=(Dropdown(description='Cor', options=(('amarelo vermelho', 'YlOrRd'), ('amarelo marrom', …"
      ]
     },
     "metadata": {},
     "output_type": "display_data"
    }
   ],
   "source": [
    "#km de ciclovia por área (densidade) por zona\n",
    "show_choropleth_widgets('Cycling infrastructure density (km per km&sup2;)',\n",
    "                        lambda x : x['bike_length'] / x['Area_ha_2'],\n",
    "                        zones = zone_shp)"
   ]
  },
  {
   "cell_type": "code",
   "execution_count": 129,
   "id": "adec3878",
   "metadata": {},
   "outputs": [
    {
     "data": {
      "application/vnd.jupyter.widget-view+json": {
       "model_id": "cd845e7d3fbf4c82a560e335737678ed",
       "version_major": 2,
       "version_minor": 0
      },
      "text/plain": [
       "interactive(children=(Dropdown(description='Cor', options=(('amarelo vermelho', 'YlOrRd'), ('amarelo marrom', …"
      ]
     },
     "metadata": {},
     "output_type": "display_data"
    }
   ],
   "source": [
    "# Km de ciclovia por km da malha viária\n",
    "show_choropleth_widgets('Lanes with cycling infrastructure (%)',\n",
    "                        lambda x : 0 if x['lane_length'] == 0 else x['bike_length'] / x['lane_length'] * 100,\n",
    "                        zones = zone_shp)\n",
    "\n",
    "#show_choropleth_widgets('km de ciclovia por km de ruas',\n",
    "#                        lambda x : 0 if x['lane_length'] == 0 else  \\\n",
    "#                        min(1, x['bike_length'] / x['lane_length']),\n",
    "#                        zones = zone_shp)\n",
    "                        "
   ]
  },
  {
   "cell_type": "code",
   "execution_count": 36,
   "id": "2d13cd52",
   "metadata": {},
   "outputs": [
    {
     "data": {
      "application/vnd.jupyter.widget-view+json": {
       "model_id": "e57cf599edff4da7bc445c5ea1f25813",
       "version_major": 2,
       "version_minor": 0
      },
      "text/plain": [
       "interactive(children=(Dropdown(description='Cor', options=(('amarelo vermelho', 'YlOrRd'), ('amarelo marrom', …"
      ]
     },
     "metadata": {},
     "output_type": "display_data"
    }
   ],
   "source": [
    "population = [84963,43117,65859,89622,105269,14383,69460,45057,33892,\n",
    "              29265,264918,54196,157408,36948,62530,100713,216098,136623,\n",
    "              275230,83281,85624,266681,203473,126597,211501,57365,109088,\n",
    "              113615,142327,500787,103996,127662,106865,92570,278026,204871,\n",
    "              223780,94609,24895,49863,281824,295434,135043,88692,267871,\n",
    "              124122,185184,65739,69092,80229,107580,8258,83368,63133,46957,\n",
    "              202321,17299,68258,158656,127820,111161,80187,65364,167931,93894,\n",
    "              100164,56981,118459,247851,83717,118797,71560,84843,142347,158533,\n",
    "              92081,151017,296042,130780,23651,37783,91672,197258,98438,127015,\n",
    "              162486,94799,54331,167965,39485,113463,130484,104947,129919,104242,108441,]\n",
    "\n",
    "zone_shp['population'] = population + [0]*38\n",
    "\n",
    "# Km de ciclovia por km da malha viária\n",
    "show_choropleth_widgets('Bike lanes (km) per capita',\n",
    "                        lambda x : 0 if x['population'] == 0 else x['bike_length'] / x['population'],\n",
    "                        zones = zone_shp)\n"
   ]
  },
  {
   "cell_type": "code",
   "execution_count": 14,
   "id": "f3898576",
   "metadata": {},
   "outputs": [],
   "source": [
    "#zone_shp_original = zone_shp.copy(True)\n",
    "#zone_shp_aux = zone_shp.drop(labels=[178], axis=0)\n",
    "\n",
    "#show_choropleth_widgets('km de ciclovia por km de ruas',\n",
    "#                        lambda x : 0 if x['lane_length'] == 0 else x['bike_length'] / x['lane_length'],\n",
    "#                        zones = zone_shp_aux)"
   ]
  },
  {
   "cell_type": "code",
   "execution_count": 21,
   "id": "e22c7aaf",
   "metadata": {},
   "outputs": [],
   "source": []
  },
  {
   "cell_type": "code",
   "execution_count": 130,
   "id": "eff8b0f1",
   "metadata": {},
   "outputs": [],
   "source": [
    "# para salvar um csv\n",
    "\n",
    "#columns = ['NomeDistri','Area_ha_2','population','lane_length',\n",
    "#           'protected_length', 'bike_lane_length', 'sharrow_length', \n",
    "#           'density_area', 'density_percent']\n",
    "\n",
    "#zone_shp['Area_ha_2'] = round(zone_shp['Area_ha_2'], 2)\n",
    "#zone_shp['lane_length'] = round(zone_shp['lane_length'], 2)\n",
    "#zone_shp['protected_length'] = round(zone_shp['protected_length'], 2)\n",
    "#zone_shp['bike_lane_length'] = round(zone_shp['bike_lane_length'], 2)\n",
    "#zone_shp['sharrow_length'] = round(zone_shp['sharrow_length'], 2)\n",
    "#zone_shp['density_area'] = round(zone_shp['density_area'], 2)\n",
    "#zone_shp['density_percent'] = round(zone_shp['density_percent'], 2)\n",
    "\n",
    "#display(zone_shp.loc[zone_shp['NumeroMuni'] == 36][columns])\n",
    "\n",
    "#zone_shp.loc[zone_shp['NumeroMuni'] == 36][columns].to_csv('districts_infra.csv')"
   ]
  },
  {
   "cell_type": "code",
   "execution_count": 193,
   "id": "12c5294b",
   "metadata": {},
   "outputs": [],
   "source": [
    "trips = gpd.read_file('../data/sao-paulo/od/routes/bike_routes_all.shp')\n",
    "\n",
    "zones_od = gpd.read_file('../data/sao-paulo/od/shapes/Zonas_2017_region.shp')\n",
    "zones_od.crs = {'init': 'epsg:31983'}  \n",
    "zones_od.to_crs(epsg='4326', inplace=True)\n",
    "\n",
    "#display(trips)\n",
    "#display(zone_shp)\n",
    "\n",
    "trips_geometries = list(trips['geometry'])\n",
    "trips_expansion = list(trips['FE_VIA'])\n",
    "\n",
    "total_per_zone = [0]*134 #517 # hash to store trips indexed by zones\n",
    "\n",
    "for z in range(len(zone_shp)):\n",
    "    zone = zone_shp.iloc[z]['geometry']\n",
    "    for i in range (len (trips_geometries)):\n",
    "        if (trips_geometries[i].intersects(zone)):\n",
    "            total_per_zone[z] += trips_expansion[i]\n",
    "              "
   ]
  },
  {
   "cell_type": "code",
   "execution_count": 182,
   "id": "85f98bcc",
   "metadata": {},
   "outputs": [
    {
     "name": "stdout",
     "output_type": "stream",
     "text": [
      "751455.3650559998\n"
     ]
    }
   ],
   "source": [
    "print(sum(total_per_zone))  "
   ]
  },
  {
   "cell_type": "code",
   "execution_count": 194,
   "id": "190083c5",
   "metadata": {},
   "outputs": [
    {
     "data": {
      "application/vnd.jupyter.widget-view+json": {
       "model_id": "0fcc4a960d004af79ec2c48f1b014467",
       "version_major": 2,
       "version_minor": 0
      },
      "text/plain": [
       "interactive(children=(Dropdown(description='Cor', options=(('amarelo vermelho', 'YlOrRd'), ('amarelo marrom', …"
      ]
     },
     "metadata": {},
     "output_type": "display_data"
    }
   ],
   "source": [
    "zone_shp['trips'] = total_per_zone\n",
    "zone_shp['protected_length'] = 0\n",
    "zone_shp['sharrow_length'] = 0\n",
    "zone_shp['bike_lane_length'] = 0\n",
    "zone_shp['bike_length'] = 0\n",
    "zone_shp['lane_length'] = total_per_zone\n",
    "\n",
    "# Km de ciclovia por km da malha viária\n",
    "show_choropleth_widgets('Bike trips in São Paulo',\n",
    "                        lambda x : x['trips'],\n",
    "                        zones = zone_shp)\n"
   ]
  },
  {
   "cell_type": "code",
   "execution_count": 189,
   "id": "9e1b8ac2",
   "metadata": {},
   "outputs": [
    {
     "name": "stdout",
     "output_type": "stream",
     "text": [
      "383299.36855100014\n"
     ]
    }
   ],
   "source": [
    "trips_origin = [0] * 134 #517\n",
    "for _, t in trips.iterrows():\n",
    "    #trips_origin[int(t['ZONA_D']) - 1] += t['FE_VIA']\n",
    "    trips_origin[int(zones_od.iloc[int(t['ZONA_O']) - 1]['NumDistrit']) - 1] += t['FE_VIA']\n",
    "\n",
    "zone_shp['origin_trips'] = trips_origin\n",
    "\n",
    "print(sum(trips_origin))"
   ]
  },
  {
   "cell_type": "code",
   "execution_count": 192,
   "id": "2fb14c66",
   "metadata": {},
   "outputs": [
    {
     "data": {
      "application/vnd.jupyter.widget-view+json": {
       "model_id": "7c9b8581c7bb4d808ff405087ee113a5",
       "version_major": 2,
       "version_minor": 0
      },
      "text/plain": [
       "interactive(children=(Dropdown(description='Cor', options=(('amarelo vermelho', 'YlOrRd'), ('amarelo marrom', …"
      ]
     },
     "metadata": {},
     "output_type": "display_data"
    }
   ],
   "source": [
    "zone_shp['lane_length'] = trips_origin\n",
    "# Km de ciclovia por km da malha viária\n",
    "show_choropleth_widgets('Bike trips in São Paulo',\n",
    "                        lambda x : x['origin_trips'],\n",
    "                        zones = zone_shp)"
   ]
  },
  {
   "cell_type": "code",
   "execution_count": 196,
   "id": "a0dc0db3",
   "metadata": {},
   "outputs": [],
   "source": [
    "od_trips = pd.read_csv('../data/sao-paulo/od/OD_2017.csv')\n",
    "od_trips.columns = [c[: c.index(',')] for c in od_trips.columns]\n",
    "od_trips.set_index('ID_ORDEM', inplace=True, drop=False)\n",
    "\n",
    "total_trips = [0]*134\n",
    "bike_trips = [0]*134\n",
    "\n",
    "for _, t in od_trips.iterrows():\n",
    "    total_trips[int(zones_od.iloc[int(t['ZONA_O']) - 1]['NumDistrit']) - 1] += t['FE_VIA']\n",
    "    if t['MODOPRIN'] == 15:\n",
    "        bike_trips[int(zones_od.iloc[int(t['ZONA_O']) - 1]['NumDistrit']) - 1] += t['FE_VIA']\n",
    "        \n",
    "zone_shp['total_trips_od'] = total_trips\n",
    "zone_shp['origin_trips_od'] = bike_trips\n",
    "\n",
    "zone_shp['protected_length'] = zone_shp['total_trips_od']\n",
    "zone_shp['sharrow_length'] = zone_shp['origin_trips_od']"
   ]
  },
  {
   "cell_type": "code",
   "execution_count": 200,
   "id": "c822234f",
   "metadata": {},
   "outputs": [
    {
     "name": "stdout",
     "output_type": "stream",
     "text": [
      "42006659.86983397 376975.2340060002\n"
     ]
    },
    {
     "data": {
      "application/vnd.jupyter.widget-view+json": {
       "model_id": "d8c749ed44574e35b7394524c5bafb44",
       "version_major": 2,
       "version_minor": 0
      },
      "text/plain": [
       "interactive(children=(Dropdown(description='Cor', options=(('amarelo vermelho', 'YlOrRd'), ('amarelo marrom', …"
      ]
     },
     "metadata": {},
     "output_type": "display_data"
    },
    {
     "data": {
      "application/vnd.jupyter.widget-view+json": {
       "model_id": "6a977bef1acd495598d8777cf1057bd0",
       "version_major": 2,
       "version_minor": 0
      },
      "text/plain": [
       "interactive(children=(Dropdown(description='Cor', options=(('amarelo vermelho', 'YlOrRd'), ('amarelo marrom', …"
      ]
     },
     "metadata": {},
     "output_type": "display_data"
    }
   ],
   "source": [
    "print(sum(total_trips), sum(bike_trips))\n",
    "\n",
    "# Km de ciclovia por km da malha viária\n",
    "show_choropleth_widgets('Bike trips in São Paulo',\n",
    "                        lambda x : x['origin_trips_od'],\n",
    "                        zones = zone_shp)\n",
    "\n",
    "# Km de ciclovia por km da malha viária\n",
    "show_choropleth_widgets('Percentage of trips made by bicycle',\n",
    "                        lambda x : 0 if x['total_trips_od'] == 0 else x['origin_trips_od'] / x['total_trips_od'] * 100,\n",
    "                        zones = zone_shp)"
   ]
  },
  {
   "cell_type": "code",
   "execution_count": 201,
   "id": "ff72ba96",
   "metadata": {},
   "outputs": [],
   "source": [
    "zone_shp['bike_proportion'] = zone_shp['origin_trips_od'] / zone_shp['total_trips_od'] "
   ]
  },
  {
   "cell_type": "code",
   "execution_count": 203,
   "id": "3130ada5",
   "metadata": {},
   "outputs": [
    {
     "data": {
      "text/html": [
       "<div>\n",
       "<style scoped>\n",
       "    .dataframe tbody tr th:only-of-type {\n",
       "        vertical-align: middle;\n",
       "    }\n",
       "\n",
       "    .dataframe tbody tr th {\n",
       "        vertical-align: top;\n",
       "    }\n",
       "\n",
       "    .dataframe thead th {\n",
       "        text-align: right;\n",
       "    }\n",
       "</style>\n",
       "<table border=\"1\" class=\"dataframe\">\n",
       "  <thead>\n",
       "    <tr style=\"text-align: right;\">\n",
       "      <th></th>\n",
       "      <th>NomeDistri</th>\n",
       "      <th>bike_proportion</th>\n",
       "    </tr>\n",
       "  </thead>\n",
       "  <tbody>\n",
       "    <tr>\n",
       "      <th>133</th>\n",
       "      <td>Vargem Grande Paulista</td>\n",
       "      <td>0.000000</td>\n",
       "    </tr>\n",
       "    <tr>\n",
       "      <th>61</th>\n",
       "      <td>Perus</td>\n",
       "      <td>0.000000</td>\n",
       "    </tr>\n",
       "    <tr>\n",
       "      <th>58</th>\n",
       "      <td>Pedreira</td>\n",
       "      <td>0.000000</td>\n",
       "    </tr>\n",
       "    <tr>\n",
       "      <th>57</th>\n",
       "      <td>Parque do Carmo</td>\n",
       "      <td>0.000000</td>\n",
       "    </tr>\n",
       "    <tr>\n",
       "      <th>51</th>\n",
       "      <td>Marsilac</td>\n",
       "      <td>0.000000</td>\n",
       "    </tr>\n",
       "    <tr>\n",
       "      <th>...</th>\n",
       "      <td>...</td>\n",
       "      <td>...</td>\n",
       "    </tr>\n",
       "    <tr>\n",
       "      <th>42</th>\n",
       "      <td>Jardim Helena</td>\n",
       "      <td>0.040275</td>\n",
       "    </tr>\n",
       "    <tr>\n",
       "      <th>125</th>\n",
       "      <td>Santa Isabel</td>\n",
       "      <td>0.043526</td>\n",
       "    </tr>\n",
       "    <tr>\n",
       "      <th>87</th>\n",
       "      <td>Vila Guilherme</td>\n",
       "      <td>0.044993</td>\n",
       "    </tr>\n",
       "    <tr>\n",
       "      <th>98</th>\n",
       "      <td>Biritiba-Mirim</td>\n",
       "      <td>0.048985</td>\n",
       "    </tr>\n",
       "    <tr>\n",
       "      <th>109</th>\n",
       "      <td>Guararema</td>\n",
       "      <td>0.121740</td>\n",
       "    </tr>\n",
       "  </tbody>\n",
       "</table>\n",
       "<p>134 rows × 2 columns</p>\n",
       "</div>"
      ],
      "text/plain": [
       "                 NomeDistri  bike_proportion\n",
       "133  Vargem Grande Paulista         0.000000\n",
       "61                    Perus         0.000000\n",
       "58                 Pedreira         0.000000\n",
       "57          Parque do Carmo         0.000000\n",
       "51                 Marsilac         0.000000\n",
       "..                      ...              ...\n",
       "42            Jardim Helena         0.040275\n",
       "125            Santa Isabel         0.043526\n",
       "87           Vila Guilherme         0.044993\n",
       "98           Biritiba-Mirim         0.048985\n",
       "109               Guararema         0.121740\n",
       "\n",
       "[134 rows x 2 columns]"
      ]
     },
     "metadata": {},
     "output_type": "display_data"
    }
   ],
   "source": [
    "display(zone_shp[['NomeDistri', 'bike_proportion']].sort_values('bike_proportion'))"
   ]
  },
  {
   "cell_type": "code",
   "execution_count": null,
   "id": "b342eb19",
   "metadata": {},
   "outputs": [],
   "source": []
  }
 ],
 "metadata": {
  "kernelspec": {
   "display_name": "Python 3",
   "language": "python",
   "name": "python3"
  },
  "language_info": {
   "codemirror_mode": {
    "name": "ipython",
    "version": 3
   },
   "file_extension": ".py",
   "mimetype": "text/x-python",
   "name": "python",
   "nbconvert_exporter": "python",
   "pygments_lexer": "ipython3",
   "version": "3.8.10"
  }
 },
 "nbformat": 4,
 "nbformat_minor": 5
}
