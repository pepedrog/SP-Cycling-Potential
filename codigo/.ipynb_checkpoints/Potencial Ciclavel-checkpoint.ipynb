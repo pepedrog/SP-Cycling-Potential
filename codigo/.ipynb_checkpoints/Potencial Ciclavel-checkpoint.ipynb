version https://git-lfs.github.com/spec/v1
oid sha256:687bdc819bf6cd9d33bf1d11ec65613e2850f8e0a9ff448d485e21449bf1d307
size 807790
