{
 "cells": [
  {
   "cell_type": "code",
   "execution_count": 1,
   "id": "16e6c0d1",
   "metadata": {},
   "outputs": [
    {
     "name": "stderr",
     "output_type": "stream",
     "text": [
      "/home/pedro/.local/lib/python3.8/site-packages/geopandas/_compat.py:106: UserWarning: The Shapely GEOS version (3.8.0-CAPI-1.13.1 ) is incompatible with the GEOS version PyGEOS was compiled with (3.9.0-CAPI-1.16.2). Conversions between both will be slow.\n",
      "  warnings.warn(\n"
     ]
    }
   ],
   "source": [
    "import saopaulo.load_trips as sptr\n",
    "import saopaulo.maps_aux as aux\n",
    "import saopaulo.cycling_infrastructure as cinfra\n",
    "import saopaulo.choropleth as spchoro\n",
    "# import saopaulo.choropleth_folium as spchoro\n",
    "\n",
    "import saopaulo.sp_grid as gr\n",
    "\n",
    "from bikescience.intersect_ways import geometry_intersection_length\n",
    "\n",
    "import geopandas as gpd\n",
    "import json\n",
    "import pandas as pd\n",
    "import numpy as np\n",
    "from ipywidgets import interact_manual, widgets, fixed\n",
    "from IPython.core.display import display, HTML, clear_output\n",
    "import folium\n",
    "\n",
    "import warnings\n",
    "import requests\n",
    "import os\n",
    "import fnmatch as fnm\n",
    "warnings.simplefilter('ignore')\n",
    "\n",
    "# loading data\n",
    "\n",
    "# SIRGAS 2000 / UTM zone 23S\n",
    "# http://www.processamentodigital.com.br/2013/07/27/lista-dos-codigos-epsg-mais-utilizados-no-brasil/\n",
    "zone_shp = gpd.read_file('../data/sao-paulo/od/shapes/Zonas_2017_region.shp')\n",
    "zone_shp.crs = {'init': 'epsg:31983'}  \n",
    "zone_shp.to_crs(epsg='4326', inplace=True)\n",
    "\n",
    "# map offsets\n",
    "west_offset=-0.15\n",
    "east_offset=0.23\n",
    "north_offset=0.19\n",
    "south_offset=-0.50"
   ]
  },
  {
   "cell_type": "code",
   "execution_count": 2,
   "id": "52f95250",
   "metadata": {},
   "outputs": [
    {
     "data": {
      "text/plain": [
       "Index(['NumeroZona', 'NomeZona', 'NumeroMuni', 'NomeMunici', 'NumDistrit',\n",
       "       'NomeDistri', 'Area_ha_2', 'geometry'],\n",
       "      dtype='object')"
      ]
     },
     "metadata": {},
     "output_type": "display_data"
    }
   ],
   "source": [
    "display(zone_shp.columns)"
   ]
  },
  {
   "cell_type": "code",
   "execution_count": 10,
   "id": "ace7cc78",
   "metadata": {},
   "outputs": [],
   "source": [
    "### funcoes auxiliares  \n",
    "def plot_zonas_od_choropleth(ids, color):\n",
    "    tooltip_columns = ['NomeZona', 'NumeroZona', 'lane_length', 'bike_length', \n",
    "                     'protected_length', 'bike_lane_length', 'sharrow_length']\n",
    "    tooltip_aliases = ['Zona', 'Área (km2)', 'Malha viária (km)', 'Malha cicloviária (km)', \n",
    "                      '..Ciclovias (km)', '..Ciclofaixas (km)', '..Ciclorrotas (km)']\n",
    "    fmap = gr.map_around_sp(the_grid=None,zoom=10,plot_grid=False)\n",
    "    spchoro.plot_choropleth(fmap, title, color, value_function, geodf_zones, tooltip_columns, tooltip_aliases)\n",
    "    cinfra.plot_cycling_infra(fmap, protected_lanes, bike_lanes, sharrow_lanes)\n",
    "    \n",
    "    folium.LayerControl().add_to(fmap)\n",
    "    file = 'maps/' + title.replace(' ', '_') + '.html'\n",
    "    fmap.save(file)\n",
    "    display(HTML('Salvo em <a href=\"' + file + '\" target=\"_blank\">' + file + '</a>'))\n",
    "    display(fmap)"
   ]
  },
  {
   "cell_type": "code",
   "execution_count": 11,
   "id": "a479842c",
   "metadata": {
    "scrolled": false
   },
   "outputs": [
    {
     "data": {
      "application/vnd.jupyter.widget-view+json": {
       "model_id": "8965c4c1f1b744698852f6e342195285",
       "version_major": 2,
       "version_minor": 0
      },
      "text/plain": [
       "interactive(children=(Dropdown(description='Cor', options=(('vermelho', 'red'), ('azul', 'blue'), ('verde', 'g…"
      ]
     },
     "metadata": {},
     "output_type": "display_data"
    }
   ],
   "source": [
    "# Obtendo a km de ciclovias por zona\n",
    "show_choropleth_widgets(title = 'km de rede cicloviária por zona',\n",
    "                        value_function = lambda x : x['bike_length'],\n",
    "                        zones = zone_shp)"
   ]
  },
  {
   "cell_type": "code",
   "execution_count": null,
   "id": "d9035cd4",
   "metadata": {},
   "outputs": [],
   "source": [
    "#km de ciclovia por área (densidade) por zona\n",
    "show_choropleth_widgets('rede cicloviária (em metros) por km quadrado',\n",
    "                        lambda x : x['bike_length'] / x['Area_ha_2'],\n",
    "                        zones = zone_shp)"
   ]
  },
  {
   "cell_type": "code",
   "execution_count": null,
   "id": "adec3878",
   "metadata": {},
   "outputs": [],
   "source": [
    "# Km de ciclovia por km da malha viária\n",
    "show_choropleth_widgets('km de ciclovia por km de ruas',\n",
    "                        lambda x : 0 if x['lane_length'] == 0 else x['bike_length'] / x['lane_length'],\n",
    "                        zones = zone_shp)\n",
    "\n",
    "show_choropleth_widgets('km de ciclovia por km de ruas',\n",
    "                        lambda x : 0 if x['lane_length'] == 0 else  \\\n",
    "                        min(1, x['bike_length'] / x['lane_length']),\n",
    "                        zones = zone_shp)\n",
    "                        "
   ]
  },
  {
   "cell_type": "code",
   "execution_count": null,
   "id": "f3898576",
   "metadata": {},
   "outputs": [],
   "source": [
    "#zone_shp_original = zone_shp.copy(True)\n",
    "zone_shp_aux = zone_shp.drop(labels=[178], axis=0)\n",
    "\n",
    "show_choropleth_widgets('km de ciclovia por km de ruas',\n",
    "                        lambda x : 0 if x['lane_length'] == 0 else x['bike_length'] / x['lane_length'],\n",
    "                        zones = zone_shp_aux)"
   ]
  },
  {
   "cell_type": "code",
   "execution_count": null,
   "id": "eff8b0f1",
   "metadata": {},
   "outputs": [],
   "source": []
  },
  {
   "cell_type": "code",
   "execution_count": null,
   "id": "12c5294b",
   "metadata": {},
   "outputs": [],
   "source": []
  }
 ],
 "metadata": {
  "kernelspec": {
   "display_name": "Python 3",
   "language": "python",
   "name": "python3"
  },
  "language_info": {
   "codemirror_mode": {
    "name": "ipython",
    "version": 3
   },
   "file_extension": ".py",
   "mimetype": "text/x-python",
   "name": "python",
   "nbconvert_exporter": "python",
   "pygments_lexer": "ipython3",
   "version": "3.8.10"
  }
 },
 "nbformat": 4,
 "nbformat_minor": 5
}
