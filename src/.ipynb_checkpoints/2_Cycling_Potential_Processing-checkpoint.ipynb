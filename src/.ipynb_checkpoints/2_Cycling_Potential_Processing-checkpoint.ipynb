{
 "cells": [
  {
   "cell_type": "code",
   "execution_count": 1,
   "metadata": {},
   "outputs": [
    {
     "name": "stdout",
     "output_type": "stream",
     "text": [
      "0.33785064661258535\n"
     ]
    }
   ],
   "source": [
    "\n",
    "import saopaulo.cycling_potential as cp\n",
    "\n",
    "print(cp.partial_cycling_potential('distance', 'm', 4820))"
   ]
  },
  {
   "cell_type": "code",
   "execution_count": null,
   "metadata": {
    "scrolled": false
   },
   "outputs": [],
   "source": [
    "# importing data and auxiliar functions\n",
    "\n",
    "import saopaulo.sp_grid as gr\n",
    "import saopaulo.cycling_potential as cp\n",
    "from bikescience.slope import plot_slope, plot_slopes, split_route\n",
    "from shapely.geometry import LineString\n",
    "import ast\n",
    "\n",
    "from math import floor\n",
    "\n",
    "import folium\n",
    "import pandas as pd\n",
    "import geopandas as gpd\n",
    "from statistics import stdev\n",
    "from ipywidgets import interact_manual, widgets, fixed\n",
    "from IPython.core.display import display, HTML, clear_output\n",
    "import matplotlib.pyplot as plt\n",
    "import matplotlib.ticker as tkr\n",
    "import warnings\n",
    "import requests\n",
    "import os\n",
    "warnings.simplefilter('ignore')\n",
    "import time\n",
    "\n",
    "zone_shp = gpd.read_file('../data/sao-paulo/od/shapes/Zonas_2017_region.shp')\n",
    "zone_shp.crs = {'init': 'epsg:31983'}  \n",
    "zone_shp.to_crs(epsg='4326', inplace=True)\n",
    "\n",
    "routes_files = {\n",
    "    'pedestrian':  'routes_pedestrians_to_bikes.csv',\n",
    "    'car':         'new_routes_cars_to_bikes.csv',\n",
    "    'bus_inter':   'new_routes_bus_intercity_to_bikes.csv',\n",
    "    'bus_otherc':  'new_routes_bus_other_cities_to_bikes.csv',\n",
    "    'bus_private': 'new_routes_bus_private_to_bikes.csv',\n",
    "    'bus_school':  'new_routes_bus_school_to_bikes.csv',\n",
    "    'bus_sp':      'new_routes_bus_sp_to_bikes.csv',\n",
    "    'monorail':    'new_routes_monorail_to_bikes.csv',\n",
    "    'motorcycle':  'new_routes_motorcycle_to_bikes.csv',\n",
    "    'other':       'new_routes_other_to_bikes.csv',\n",
    "    'subway':      'new_routes_subway_to_bikes.csv',\n",
    "    'taxi_app':    'new_routes_taxi_app_to_bikes.csv',\n",
    "    'taxi':        'new_routes_taxi_to_bikes.csv',\n",
    "    'train':       'new_routes_train_to_bikes.csv',\n",
    "}\n",
    "    \n",
    "# read routes files and join with general trips file\n",
    "od_trips = pd.read_csv('../data/sao-paulo/od/OD_2017.csv')\n",
    "od_trips.columns = [c[: c.index(',')] for c in od_trips.columns]\n",
    "od_trips.set_index('ID_ORDEM', inplace=True, drop=False)\n",
    "display(od_trips)\n",
    "\n",
    "complete_gdf = gpd.GeoDataFrame()\n",
    "\n",
    "for modal in routes_files:\n",
    "    print('importando' + modal)\n",
    "    df = pd.read_csv('../data/sao-paulo/rotas-migracao/' + routes_files[modal])\n",
    "    df.set_index('trip_id', inplace=True, drop=False)\n",
    "    df = df.join(other = od_trips, how = 'left')\n",
    "    gdf = gpd.GeoDataFrame(df, crs={'init': 'epsg:4326'}, \n",
    "                           geometry=[LineString(ast.literal_eval(r)) for r in df.route])\n",
    "    gdf['length'] = gdf['geometry'].length * 100000\n",
    "    gdf['modal'] = modal\n",
    "    complete_gdf = pd.concat([complete_gdf, gdf])\n",
    "\n",
    "\n",
    "od_routes_sp = gpd.read_file('../data/sao-paulo/od/routes/bike_routes_in_sp.shp')\n",
    "od_routes_sp.crs = {'init': 'epsg:4326'}\n",
    "od_routes_sp['length'] = od_routes_sp['geometry'].length * 100000\n",
    "\n",
    "the_grid = gr.create(n=10, west_offset=-0.15, east_offset=0.23, north_offset=0.19, south_offset=-0.46)"
   ]
  },
  {
   "cell_type": "code",
   "execution_count": null,
   "metadata": {},
   "outputs": [],
   "source": [
    "complete_gdf = complete_gdf.sort_index()\n",
    "display(complete_gdf.head(10))"
   ]
  },
  {
   "cell_type": "code",
   "execution_count": null,
   "metadata": {
    "scrolled": false
   },
   "outputs": [],
   "source": [
    "potential = []\n",
    "for i, r in complete_gdf.iterrows():\n",
    "    if i % 5000 == 0:\n",
    "        print(i, '-------------------------')\n",
    "    try:\n",
    "        pot_d, pot_a, pot_i = cp.cycling_potential_variables(r)\n",
    "    except:\n",
    "        pot_d, pot_a, pot_i = 0,0,0\n",
    "        print(i, '- broken case')\n",
    "    potential.append([i, pot_d, pot_a, pot_i, (pot_d + pot_a + pot_i) / 3])\n",
    "        \n",
    "#display(potential)"
   ]
  },
  {
   "cell_type": "code",
   "execution_count": null,
   "metadata": {},
   "outputs": [],
   "source": [
    "c = ['id', 'distance_potential', 'age_potential', 'inclination_potential', 'final_potential']\n",
    "potential_df = pd.DataFrame(potential, columns = c)\n",
    "potential_df.set_index('id', inplace=True, drop=False)\n",
    "potential_df = potential_df.sort_index()\n",
    "\n",
    "display(potential_df.head(10))"
   ]
  },
  {
   "cell_type": "code",
   "execution_count": null,
   "metadata": {},
   "outputs": [],
   "source": [
    "complete_gdf_joined = pd.concat([complete_gdf, potential_df], axis=1)\n",
    "#complete_gdf.join(other = potential_df, how = 'left')\n",
    "display(complete_gdf_joined.head(10))"
   ]
  },
  {
   "cell_type": "code",
   "execution_count": null,
   "metadata": {},
   "outputs": [],
   "source": [
    "complete_gdf_joined.to_csv('complete_csv.csv')\n",
    "complete_gdf_joined.to_file(\"countries.shp\")"
   ]
  },
  {
   "cell_type": "code",
   "execution_count": null,
   "metadata": {},
   "outputs": [],
   "source": []
  },
  {
   "cell_type": "code",
   "execution_count": null,
   "metadata": {},
   "outputs": [],
   "source": []
  },
  {
   "cell_type": "code",
   "execution_count": null,
   "metadata": {},
   "outputs": [],
   "source": []
  }
 ],
 "metadata": {
  "hide_input": false,
  "kernelspec": {
   "display_name": "Python 3",
   "language": "python",
   "name": "python3"
  },
  "language_info": {
   "codemirror_mode": {
    "name": "ipython",
    "version": 3
   },
   "file_extension": ".py",
   "mimetype": "text/x-python",
   "name": "python",
   "nbconvert_exporter": "python",
   "pygments_lexer": "ipython3",
   "version": "3.8.10"
  },
  "varInspector": {
   "cols": {
    "lenName": 16,
    "lenType": 16,
    "lenVar": 40
   },
   "kernels_config": {
    "python": {
     "delete_cmd_postfix": "",
     "delete_cmd_prefix": "del ",
     "library": "var_list.py",
     "varRefreshCmd": "print(var_dic_list())"
    },
    "r": {
     "delete_cmd_postfix": ") ",
     "delete_cmd_prefix": "rm(",
     "library": "var_list.r",
     "varRefreshCmd": "cat(var_dic_list()) "
    }
   },
   "types_to_exclude": [
    "module",
    "function",
    "builtin_function_or_method",
    "instance",
    "_Feature"
   ],
   "window_display": false
  }
 },
 "nbformat": 4,
 "nbformat_minor": 2
}
