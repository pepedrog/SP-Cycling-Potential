{
 "cells": [
  {
   "cell_type": "markdown",
   "id": "6b801933",
   "metadata": {},
   "source": [
    "# Cycling Potential Table\n",
    "\n",
    "Data Extraction used to complement the paper data (regarding the distribution of cycling potential among modals and tiers)"
   ]
  },
  {
   "cell_type": "code",
   "execution_count": 1,
   "id": "dc107a97",
   "metadata": {},
   "outputs": [
    {
     "name": "stderr",
     "output_type": "stream",
     "text": [
      "/home/pedro/.local/lib/python3.8/site-packages/geopandas/_compat.py:106: UserWarning: The Shapely GEOS version (3.8.0-CAPI-1.13.1 ) is incompatible with the GEOS version PyGEOS was compiled with (3.9.0-CAPI-1.16.2). Conversions between both will be slow.\n",
      "  warnings.warn(\n"
     ]
    }
   ],
   "source": [
    "%load_ext autoreload\n",
    "%autoreload 2\n",
    "import saopaulo.load_trips as sptr\n",
    "import saopaulo.maps_aux as aux\n",
    "import saopaulo.cycling_infrastructure as cinfra\n",
    "import saopaulo.choropleth as spchoro\n",
    "\n",
    "from shapely.geometry import LineString, Point\n",
    "#import saopaulo.choropleth_folium as spchoro\n",
    "\n",
    "import saopaulo.sp_grid as gr\n",
    "\n",
    "from bikescience.intersect_ways import geometry_intersection_length\n",
    "\n",
    "import geopandas as gpd\n",
    "import json\n",
    "import pandas as pd\n",
    "import numpy as np\n",
    "from ipywidgets import interact_manual, widgets, fixed\n",
    "from IPython.core.display import display, HTML, clear_output\n",
    "import folium\n",
    "\n",
    "import warnings\n",
    "import requests\n",
    "import os\n",
    "import fnmatch as fnm\n",
    "warnings.simplefilter('ignore')\n",
    "\n",
    "gr.SP_LAT = -23.63\n",
    "gr.SP_LON = -46.55\n"
   ]
  },
  {
   "cell_type": "code",
   "execution_count": 2,
   "id": "16e6c0d1",
   "metadata": {},
   "outputs": [],
   "source": [
    "od_trips = pd.read_csv('bases/complete_csv.csv')\n",
    "od_trips['final_potential_v2'] = (od_trips['inclination_potential'] + od_trips['distance_potential']) / 2\n",
    "# fix FE_VIA with wrong format (because of thousand separator)\n",
    "od_trips.loc[od_trips['FE_VIA'] >= 10000, 'FE_VIA'] = od_trips.loc[od_trips['FE_VIA'] >= 10000, 'FE_VIA'] / 1000\n",
    "od_trips.dropna(inplace = True)\n",
    "od_trips = gpd.GeoDataFrame(od_trips, crs={'init': 'epsg:4326'},\n",
    "                 geometry=[LineString(eval(r)) for r in od_trips['route']])"
   ]
  },
  {
   "cell_type": "code",
   "execution_count": 3,
   "id": "f38c8622",
   "metadata": {},
   "outputs": [
    {
     "data": {
      "text/plain": [
       "0         0.428496\n",
       "1         0.576615\n",
       "2         0.049649\n",
       "3         0.240028\n",
       "4         0.335606\n",
       "            ...   \n",
       "175076    0.485744\n",
       "175077    0.772107\n",
       "175078    0.634039\n",
       "175079    0.743115\n",
       "175080    0.621556\n",
       "Name: final_potential_v2, Length: 175081, dtype: float64"
      ]
     },
     "metadata": {},
     "output_type": "display_data"
    },
    {
     "data": {
      "text/plain": [
       "0         pedestrian\n",
       "1         pedestrian\n",
       "2             subway\n",
       "3             subway\n",
       "4             bus_sp\n",
       "             ...    \n",
       "175076    pedestrian\n",
       "175077    pedestrian\n",
       "175078    pedestrian\n",
       "175079    pedestrian\n",
       "175080    pedestrian\n",
       "Name: modal, Length: 175081, dtype: object"
      ]
     },
     "metadata": {},
     "output_type": "display_data"
    },
    {
     "data": {
      "text/plain": [
       "0         22.132647\n",
       "1         22.132647\n",
       "2         18.882487\n",
       "3         18.882487\n",
       "4         18.882487\n",
       "            ...    \n",
       "175076    89.330849\n",
       "175077    55.549985\n",
       "175078    55.549985\n",
       "175079    55.549985\n",
       "175080    55.549985\n",
       "Name: FE_VIA, Length: 175081, dtype: float64"
      ]
     },
     "metadata": {},
     "output_type": "display_data"
    }
   ],
   "source": [
    "display(od_trips['final_potential_v2'])\n",
    "display(od_trips['modal'])\n",
    "display(od_trips['FE_VIA'])"
   ]
  },
  {
   "cell_type": "code",
   "execution_count": 4,
   "id": "c9c79a7d",
   "metadata": {},
   "outputs": [],
   "source": [
    "def generate_potential_df(\n",
    "    pedestrian, car, motorcycle, bus, subway, train,\n",
    "    tier):\n",
    "    \n",
    "    trips = od_trips.loc[od_trips['final_potential_v2'] > tier * .25]\n",
    "    trips = trips.loc[od_trips['final_potential_v2'] <= (tier + 1) * .25]\n",
    "    \n",
    "    if pedestrian:\n",
    "        trips = trips.loc[trips['modal'] == 'pedestrian']\n",
    "    if car:\n",
    "        trips = trips.loc[(trips['modal'] == 'car') | \n",
    "                          (trips['modal'] == 'taxi') | \n",
    "                          (trips['modal'] == 'taxi_app')]\n",
    "    if motorcycle:\n",
    "        trips = trips.loc[trips['modal'] == 'motorcycle']\n",
    "    if bus:\n",
    "        trips = trips.loc[(trips['modal'] == 'bus_sp') | \n",
    "                          (trips['modal'] == 'bus_inter') | \n",
    "                          (trips['modal'] == 'bus_otherc') |\n",
    "                          (trips['modal'] == 'bus_school') |\n",
    "                          (trips['modal'] == 'bus_private')]\n",
    "    if subway:\n",
    "        trips = trips.loc[(trips['modal'] == 'subway') | \n",
    "                          (trips['modal'] == 'monorail')]\n",
    "    if train:\n",
    "        trips = trips.loc[trips['modal'] == 'train']\n",
    "    return round(sum(trips['FE_VIA']))\n",
    "    "
   ]
  },
  {
   "cell_type": "code",
   "execution_count": 7,
   "id": "92be1814",
   "metadata": {},
   "outputs": [
    {
     "name": "stdout",
     "output_type": "stream",
     "text": [
      "-----------------------------\n",
      "Tier:  0\n",
      "\t pedestrian :  134296\n",
      "\t car :  4997886\n",
      "\t motorcycle :  590995\n",
      "\t bus :  7625063\n",
      "\t subway :  1902695\n",
      "\t train :  1623135\n",
      "-----------------------------\n",
      "Tier:  1\n",
      "\t pedestrian :  1854836\n",
      "\t car :  2492405\n",
      "\t motorcycle :  189578\n",
      "\t bus :  3519013\n",
      "\t subway :  1049525\n",
      "\t train :  473379\n",
      "-----------------------------\n",
      "Tier:  2\n",
      "\t pedestrian :  7497336\n",
      "\t car :  2863395\n",
      "\t motorcycle :  202707\n",
      "\t bus :  2646874\n",
      "\t subway :  330829\n",
      "\t train :  150897\n",
      "-----------------------------\n",
      "Tier:  3\n",
      "\t pedestrian :  3857013\n",
      "\t car :  1736685\n",
      "\t motorcycle :  92559\n",
      "\t bus :  1314955\n",
      "\t subway :  150054\n",
      "\t train :  59301\n"
     ]
    },
    {
     "data": {
      "text/plain": [
       "[[134296, 1854836, 7497336, 3857013],\n",
       " [4997886, 2492405, 2863395, 1736685],\n",
       " [590995, 189578, 202707, 92559],\n",
       " [7625063, 3519013, 2646874, 1314955],\n",
       " [1902695, 1049525, 330829, 150054],\n",
       " [1623135, 473379, 150897, 59301]]"
      ]
     },
     "metadata": {},
     "output_type": "display_data"
    }
   ],
   "source": [
    "import datetime\n",
    "modals_name = ['pedestrian', 'car', 'motorcycle', 'bus', 'subway', 'train']\n",
    "\n",
    "potential_matrix = [[0 for _ in range(4)] for _ in range(6)]\n",
    "for tier in range(4):\n",
    "    print('-----------------------------')\n",
    "    print('Tier: ', tier)\n",
    "    for modal in range(6):\n",
    "        modals=[False, False, False, False, False, False]\n",
    "        modals[modal] = True\n",
    "        potentials = generate_potential_df(modals[0], modals[1], modals[2], modals[3], modals[4], modals[5], tier)\n",
    "        potential_matrix[modal][tier] = potentials\n",
    "        \n",
    "        print('\\t', modals_name[modal], ': ', potentials)\n",
    "        \n",
    "display(potential_matrix)\n",
    "\n",
    "        "
   ]
  },
  {
   "cell_type": "code",
   "execution_count": null,
   "id": "68ca6170",
   "metadata": {},
   "outputs": [],
   "source": []
  }
 ],
 "metadata": {
  "kernelspec": {
   "display_name": "Python 3",
   "language": "python",
   "name": "python3"
  },
  "language_info": {
   "codemirror_mode": {
    "name": "ipython",
    "version": 3
   },
   "file_extension": ".py",
   "mimetype": "text/x-python",
   "name": "python",
   "nbconvert_exporter": "python",
   "pygments_lexer": "ipython3",
   "version": "3.8.10"
  }
 },
 "nbformat": 4,
 "nbformat_minor": 5
}
