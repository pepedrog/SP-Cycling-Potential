version https://git-lfs.github.com/spec/v1
oid sha256:5ba471e8ed7b28bc2e612abcb4a72b042f0def75f3470b2d25f350a11ec3d857
size 703168
