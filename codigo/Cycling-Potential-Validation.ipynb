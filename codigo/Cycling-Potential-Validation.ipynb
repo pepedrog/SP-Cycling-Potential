{
 "cells": [
  {
   "cell_type": "code",
   "execution_count": 1,
   "metadata": {
    "scrolled": false
   },
   "outputs": [
    {
     "name": "stderr",
     "output_type": "stream",
     "text": [
      "/home/pedro/.local/lib/python3.8/site-packages/geopandas/_compat.py:106: UserWarning: The Shapely GEOS version (3.8.0-CAPI-1.13.1 ) is incompatible with the GEOS version PyGEOS was compiled with (3.9.0-CAPI-1.16.2). Conversions between both will be slow.\n",
      "  warnings.warn(\n"
     ]
    }
   ],
   "source": [
    "# importing data and auxiliar functions\n",
    "\n",
    "import saopaulo.sp_grid as gr\n",
    "import bikescience.distributions as dist\n",
    "import saopaulo.cycling_potential as cp\n",
    "import saopaulo.choropleth_folium as choro_folium\n",
    "import saopaulo.choropleth as choro\n",
    "from bikescience.slope import plot_slope, plot_slopes, split_route\n",
    "from shapely.geometry import LineString\n",
    "import ast\n",
    "from numpy import nan\n",
    "\n",
    "import folium\n",
    "import pandas as pd\n",
    "import geopandas as gpd\n",
    "from ipywidgets import interact_manual, widgets, fixed\n",
    "import matplotlib.pyplot as plt\n",
    "import matplotlib.ticker as tkr\n",
    "import warnings\n",
    "warnings.simplefilter('ignore')"
   ]
  },
  {
   "cell_type": "code",
   "execution_count": 2,
   "metadata": {},
   "outputs": [],
   "source": [
    "#read data\n",
    "\n",
    "zone_shp = gpd.read_file('../data/sao-paulo/od/shapes/Zonas_2017_region.shp')\n",
    "zone_shp.crs = {'init': 'epsg:31983'}  \n",
    "zone_shp.to_crs(epsg='4326', inplace=True)\n",
    "\n",
    "# read routes files and join with general trips file\n",
    "od_trips = pd.read_csv('bases/complete_csv.csv')\n",
    "# fix FE_VIA with wrong format (because of thousand separator)\n",
    "od_trips.loc[od_trips['FE_VIA'] >= 10000, 'FE_VIA'] = od_trips.loc[od_trips['FE_VIA'] >= 10000, 'FE_VIA'] / 1000\n",
    "\n",
    "od_trips.set_index('ID_ORDEM', inplace=True, drop=False)\n",
    "\n",
    "od_trips.dropna(inplace = True)\n",
    "\n",
    "the_grid = gr.create(n=9, west_offset=-0.15, east_offset=0.23, north_offset=0.19, south_offset=-0.46)"
   ]
  },
  {
   "cell_type": "code",
   "execution_count": 3,
   "metadata": {},
   "outputs": [],
   "source": [
    "od_trips = gpd.GeoDataFrame(od_trips, crs={'init': 'epsg:4326'},\n",
    "                 geometry=[LineString(eval(r)) for r in od_trips['route']])"
   ]
  },
  {
   "cell_type": "code",
   "execution_count": 4,
   "metadata": {},
   "outputs": [],
   "source": [
    "def calculate_trips_zone_intersection (trips, zones):\n",
    "    \n",
    "    trips_geometries = list(trips['geometry'])\n",
    "    trips_expansion = list(trips['FE_VIA'])\n",
    "\n",
    "    trips_per_zone = [0]*517 # hash to store trips indexed by zones\n",
    "\n",
    "    progress = 0\n",
    "    \n",
    "    for z in range(len(zones)):\n",
    "        zone = zones.iloc[z]['geometry']\n",
    "        \n",
    "        if z / len(zones) >= progress:\n",
    "            print (round(progress * 100), '%')\n",
    "            progress += 0.1\n",
    "            \n",
    "        for i in range (len (trips_geometries)):\n",
    "\n",
    "            if (trips_geometries[i].intersects(zone)):\n",
    "                trips_per_zone[z] += trips_expansion[i]\n",
    "            \n",
    "    return trips_per_zone   \n",
    "\n",
    "def calculate_trips_mean_pot_intersection (trips, zones, potential_label, pot_as_prob = False):\n",
    "    \n",
    "    trips_geometries = list(trips['geometry'])\n",
    "    trips_expansion = list(trips['FE_VIA'])\n",
    "    trips_potential = list(trips[potential_label])\n",
    "\n",
    "    total_per_zone = [0]*517 # hash to store trips indexed by zones\n",
    "\n",
    "    progress = 0\n",
    "    \n",
    "    for z in range(len(zones)):\n",
    "        total_trips = 0\n",
    "        zone = zones.iloc[z]['geometry']\n",
    "        \n",
    "        if z / len(zones) >= progress:\n",
    "            print (round(progress * 100), '%')\n",
    "            progress += 0.1\n",
    "            \n",
    "        for i in range (len (trips_geometries)):\n",
    "\n",
    "            if (trips_geometries[i].intersects(zone)):\n",
    "                total_per_zone[z] += trips_expansion[i] * trips_potential[i]\n",
    "                total_trips += trips_expansion[i]\n",
    "        \n",
    "        if not pot_as_prob:\n",
    "            total_per_zone[z] = 0 if total_trips == 0 else total_per_zone[z] / total_trips\n",
    "            \n",
    "    return total_per_zone    \n",
    "\n",
    "\n",
    "def plot_trips_per_zone_intersection (trips, zones):\n",
    "    aux = calculate_trips_zone_intersection(trips, zone_shp)\n",
    "    zone_shp['intersect_trips'] = aux\n",
    "\n",
    "\n",
    "    tooltip_columns = ['NomeZona', 'intersect_trips']\n",
    "    tooltip_aliases = ['Zone', 'Trips']\n",
    "    fmap = gr.map_around_sp(the_grid=None,zoom=10,plot_grid=False)\n",
    "    choro_folium.plot_choropleth(fmap, 'Trips per zone', \n",
    "                                 'YlOrBr', lambda x : x['intersect_trips'], \n",
    "                          zone_shp.loc[zone_shp['NumeroMuni']==36], tooltip_columns, tooltip_aliases)\n",
    "    "
   ]
  },
  {
   "cell_type": "code",
   "execution_count": 5,
   "metadata": {},
   "outputs": [],
   "source": [
    "def filter_potential_widgets(btn_text, process_function):\n",
    "    \n",
    "    width = '200px'\n",
    "    layout = widgets.Layout(width = '500px')\n",
    "    \n",
    "    im = interact_manual(\n",
    "        process_function,\n",
    "        final_potential = widgets.FloatRangeSlider(\n",
    "            value=[0.85, +1.],\n",
    "            min=0, max=1., step=0.05,\n",
    "            description='Final Potential:\\t',\n",
    "            style={'description_width': width},\n",
    "            layout=layout\n",
    "        ),\n",
    "        distance_potential = widgets.FloatRangeSlider(\n",
    "            value=[0, +1.],\n",
    "            min=0, max=1., step=0.05,\n",
    "            description='Distance Potential:\\t',\n",
    "            style={'description_width': width},\n",
    "            layout=layout\n",
    "        ),\n",
    "        inclination_potential = widgets.FloatRangeSlider(\n",
    "            value=[0, +1.],\n",
    "            min=0, max=1., step=0.05,\n",
    "            description='Inclination Potential:\\t',\n",
    "            style={'description_width': width},\n",
    "            layout=layout\n",
    "        ),\n",
    "        age_potential = widgets.FloatRangeSlider(\n",
    "            value=[0, +1.],\n",
    "            min=0, max=1., step=0.05,\n",
    "            description='Age Potential:\\t',\n",
    "            style={'description_width': width},\n",
    "            layout=layout\n",
    "        ),\n",
    "        reference = widgets.Dropdown(options = [('Whole Trip', 'intersect'),('Origin', 'ZONA_O'), \n",
    "                                                ('Destination', 'ZONA_D')],\n",
    "                                     description = 'Trip Reference Point:\\t', \n",
    "                                     style={'description_width': width}),\n",
    "        \n",
    "        modal = widgets.Dropdown(options = [('All', None), ('Car', 'car'), ('Subway', 'subway'),\n",
    "                                            ('Pedestrian', 'pedestrian'), ('Motorcycle', 'motorcycle'),\n",
    "                                            ('Train', 'train')],\n",
    "                                 description = 'Modal', \n",
    "                                 style={'description_width': width})\n",
    "    )\n",
    "    im.widget.children[8].description = btn_text\n",
    "    \n",
    "def inside_limits (limits, value):\n",
    "    return value >= limits[0] and value <= limits[1]\n",
    "    \n",
    "def filter_potential(final_potential, distance_potential, age_potential, inclination_potential, modal):\n",
    "    if modal != None:\n",
    "        print(modal)\n",
    "        aux = od_trips.loc[od_trips['modal'] == modal]\n",
    "    else:\n",
    "        aux = od_trips\n",
    "    \n",
    "    aux = aux.loc[aux['age_potential'] >= age_potential[0]]\n",
    "    aux = aux.loc[aux['age_potential'] <= age_potential[1]]\n",
    "    aux = aux.loc[aux['distance_potential'] >= distance_potential[0]]\n",
    "    aux = aux.loc[aux['distance_potential'] <= distance_potential[1]]\n",
    "    aux = aux.loc[aux['inclination_potential'] >= inclination_potential[0]]\n",
    "    aux = aux.loc[aux['inclination_potential'] <= inclination_potential[1]]\n",
    "    aux = aux.loc[aux['final_potential'] >= final_potential[0]]\n",
    "    aux = aux.loc[aux['final_potential'] <= final_potential[1]]\n",
    "    return aux"
   ]
  },
  {
   "cell_type": "code",
   "execution_count": 6,
   "metadata": {},
   "outputs": [],
   "source": [
    "def plot_potential_trips_per_zone(final_potential, distance_potential, age_potential, \n",
    "                                  inclination_potential, reference, modal, debug=False, only_sp = True):\n",
    "    df = filter_potential(final_potential, distance_potential, age_potential, inclination_potential, modal)\n",
    "    \n",
    "    zones = zone_shp.loc[zone_shp[\"NumeroMuni\"] == 36] if only_sp else zone_shp\n",
    "    \n",
    "    if (reference == 'intersect'):\n",
    "        trips_per_zone = calculate_trips_zone_intersection(df, zones)\n",
    "    else:\n",
    "        trips_per_zone = [0]*517\n",
    "        for i, t in df.iterrows():\n",
    "            trips_per_zone[int(t[reference] - 1)] += t['FE_VIA']\n",
    "\n",
    "    zone_shp['potential_trips'] = trips_per_zone\n",
    "    zones = zone_shp.loc[zone_shp[\"NumeroMuni\"] == 36] if only_sp else zone_shp\n",
    "\n",
    "    tooltip_columns = ['NomeZona', 'potential_trips']\n",
    "    tooltip_aliases = ['Zone', 'Potential Trips']\n",
    "    fmap = gr.map_around_sp(the_grid=None,zoom=10,plot_grid=False)\n",
    "    choro_folium.plot_choropleth(fmap, 'Trips per zone', 'YlOrBr', lambda x : x['potential_trips'], \n",
    "                          zones, tooltip_columns, tooltip_aliases)\n",
    "    \n",
    "    if debug:\n",
    "        #display(df)\n",
    "        plot_slopes (fmap, df['geometry'], 1000, False)\n",
    "    \n",
    "    display(fmap)\n"
   ]
  },
  {
   "cell_type": "code",
   "execution_count": 7,
   "metadata": {
    "scrolled": false
   },
   "outputs": [
    {
     "data": {
      "application/vnd.jupyter.widget-view+json": {
       "model_id": "4f80b776d6a648ccb34ca79e8fca1c8f",
       "version_major": 2,
       "version_minor": 0
      },
      "text/plain": [
       "interactive(children=(FloatRangeSlider(value=(0.85, 1.0), description='Final Potential:\\t', layout=Layout(widt…"
      ]
     },
     "metadata": {},
     "output_type": "display_data"
    }
   ],
   "source": [
    "filter_potential_widgets('Filter trips', plot_potential_trips_per_zone)"
   ]
  },
  {
   "cell_type": "code",
   "execution_count": 8,
   "metadata": {},
   "outputs": [],
   "source": [
    "def plot_potential_mean_widgets():\n",
    "    im = interact_manual(\n",
    "        plot_potential_mean,\n",
    "        variable = widgets.Dropdown(options = [('Final', 'final_potential'), \n",
    "                                               ('Distance', 'distance_potential'), \n",
    "                                               ('Age', 'age_potential'), \n",
    "                                               ('Inclination', 'inclination_potential')],\n",
    "                                    description = 'Potential Variable', \n",
    "                                    style={'description_width': '300px'},\n",
    "                                    layout = widgets.Layout(width = '500px')),\n",
    "        reference = widgets.Dropdown(options = [('Origin', 'ZONA_O'), ('Destination', 'ZONA_D'), \n",
    "                                                ('Whole Trip', 'intersect')],\n",
    "                                     description = 'Trip Reference Point:\\t', \n",
    "                                    style={'description_width': '300px'},\n",
    "                                    layout = widgets.Layout(width = '500px')),\n",
    "        \n",
    "        modal = widgets.Dropdown(options = [('All', None), ('Car', 'car'), ('Subway', 'subway'),\n",
    "                                            ('Pedestrian', 'pedestrian'), ('Motorcycle', 'motorcycle'),\n",
    "                                            ('Train', 'train')],\n",
    "                                 description = 'Modal', \n",
    "                                    style={'description_width': '300px'},\n",
    "                                    layout = widgets.Layout(width = '500px'))\n",
    "    )\n",
    "    im.widget.children[4].description = 'Plot Map'\n",
    "    \n",
    "def plot_potential_mean(variable, reference, modal, only_sp = True):\n",
    "    trips = [0]*517\n",
    "    potential = [0]*517\n",
    "    \n",
    "    zones = zone_shp.loc[zone_shp[\"NumeroMuni\"] == 36] if only_sp else zone_shp\n",
    "\n",
    "    if modal != None:\n",
    "        aux = od_trips.loc[od_trips['modal'] == modal]\n",
    "    else:\n",
    "        aux = od_trips\n",
    "        \n",
    "    if reference == 'intersect':\n",
    "        mean = calculate_trips_mean_pot_intersection(aux, \n",
    "                                                    zones, variable)\n",
    "    else:\n",
    "        for i, t in aux.iterrows():\n",
    "            potential[int(t[reference] - 1)] += t[variable] * t['FE_VIA']\n",
    "            trips[int(t[reference] - 1)] += t['FE_VIA']\n",
    "\n",
    "        mean = [0 if trips[i] == 0 else potential[i] / trips [i] for i in range(517)]\n",
    "    \n",
    "    zone_shp['mean_potential'] = mean\n",
    "    zones = zone_shp.loc[zone_shp[\"NumeroMuni\"] == 36] if only_sp else zone_shp\n",
    "\n",
    "    tooltip_columns = ['NomeZona', 'mean_potential']\n",
    "    tooltip_aliases = ['Zone', 'Mean Potential (' + reference + ')']\n",
    "    fmap = gr.map_around_sp(the_grid=None,zoom=10,plot_grid=False)\n",
    "    choro_folium.plot_choropleth(fmap, 'Mean Potential (' + reference + ') ' + ' (' + variable + ')', \n",
    "                                 'YlOrBr', lambda x : x['mean_potential'], \n",
    "                          zones, tooltip_columns, tooltip_aliases)\n",
    "    display(fmap)"
   ]
  },
  {
   "cell_type": "code",
   "execution_count": 9,
   "metadata": {},
   "outputs": [
    {
     "data": {
      "application/vnd.jupyter.widget-view+json": {
       "model_id": "0344ea7111224170b85dba72041fb400",
       "version_major": 2,
       "version_minor": 0
      },
      "text/plain": [
       "interactive(children=(Dropdown(description='Potential Variable', layout=Layout(width='500px'), options=(('Fina…"
      ]
     },
     "metadata": {},
     "output_type": "display_data"
    }
   ],
   "source": [
    "plot_potential_mean_widgets()"
   ]
  },
  {
   "cell_type": "code",
   "execution_count": 10,
   "metadata": {},
   "outputs": [],
   "source": [
    "def plot_potential_prob_widgets():\n",
    "    im = interact_manual(\n",
    "        plot_potential_prob,\n",
    "        variable = widgets.Dropdown(options = [('Final', 'final_potential'), \n",
    "                                               ('Distance', 'distance_potential'), \n",
    "                                               ('Age', 'age_potential'), \n",
    "                                               ('Inclination', 'inclination_potential')],\n",
    "                                    description = 'Potential Variable', \n",
    "                                    style={'description_width': '300px'},\n",
    "                                    layout = widgets.Layout(width = '500px')),\n",
    "        reference = widgets.Dropdown(options = [('Origin', 'ZONA_O'), ('Destination', 'ZONA_D'), \n",
    "                                                ('Whole Trip', 'intersect')],\n",
    "                                     description = 'Trip Reference Point:\\t', \n",
    "                                    style={'description_width': '300px'},\n",
    "                                    layout = widgets.Layout(width = '500px')),\n",
    "        \n",
    "        modal = widgets.Dropdown(options = [('All', None), ('Car', 'car'), ('Subway', 'subway'),\n",
    "                                            ('Pedestrian', 'pedestrian'), ('Motorcycle', 'motorcycle'),\n",
    "                                            ('Train', 'train')],\n",
    "                                 description = 'Modal', \n",
    "                                    style={'description_width': '300px'},\n",
    "                                    layout = widgets.Layout(width = '500px'))\n",
    "    )\n",
    "    im.widget.children[4].description = 'Plot Map'\n",
    "    \n",
    "def plot_potential_prob(variable, reference, modal, only_sp = True):\n",
    "    trips = [0]*517\n",
    "    potential = [0]*517\n",
    "    \n",
    "    zones = zone_shp.loc[zone_shp[\"NumeroMuni\"] == 36] if only_sp else zone_shp\n",
    "\n",
    "    if modal != None:\n",
    "        aux = od_trips.loc[od_trips['modal'] == modal]\n",
    "    else:\n",
    "        aux = od_trips\n",
    "        \n",
    "    if reference == 'intersect':\n",
    "        potential = calculate_trips_mean_pot_intersection(aux, \n",
    "                                                    zones, variable, True)\n",
    "    else:\n",
    "        for i, t in aux.iterrows():\n",
    "            potential[int(t[reference] - 1)] += t[variable] * t['FE_VIA']\n",
    "    \n",
    "    zone_shp['mean_potential'] = potential\n",
    "    zones = zone_shp.loc[zone_shp[\"NumeroMuni\"] == 36] if only_sp else zone_shp\n",
    "\n",
    "    tooltip_columns = ['NomeZona', 'mean_potential']\n",
    "    tooltip_aliases = ['Zone', 'Mean Potential (' + reference + ')']\n",
    "    fmap = gr.map_around_sp(the_grid=None,zoom=10,plot_grid=False)\n",
    "    choro_folium.plot_choropleth(fmap, 'Mean Potential (' + reference + ') ' + ' (' + variable + ')', \n",
    "                                 'YlOrBr', lambda x : x['mean_potential'], \n",
    "                          zones, tooltip_columns, tooltip_aliases)\n",
    "    display(fmap)"
   ]
  },
  {
   "cell_type": "code",
   "execution_count": 11,
   "metadata": {},
   "outputs": [
    {
     "data": {
      "application/vnd.jupyter.widget-view+json": {
       "model_id": "e64ade75df9d4ac19f9d4e51fac99261",
       "version_major": 2,
       "version_minor": 0
      },
      "text/plain": [
       "interactive(children=(Dropdown(description='Potential Variable', layout=Layout(width='500px'), options=(('Fina…"
      ]
     },
     "metadata": {},
     "output_type": "display_data"
    }
   ],
   "source": [
    "# total of cyclable trips \n",
    "# considering the potential as the percentual of trips to be converted\n",
    "# (0.3 potential, FE_VIA = 100 -> 30 trips would migrate to bicycle)\n",
    "\n",
    "plot_potential_prob_widgets()"
   ]
  },
  {
   "cell_type": "code",
   "execution_count": 12,
   "metadata": {},
   "outputs": [],
   "source": [
    "# jeito automático de calcular as interseções, faz o kernel morrer :(\n",
    "\n",
    "#lines_per_polygon = gpd.overlay(od_trips, zone_shp, how = 'intersection')\n",
    "#display(lines_per_polygon)\n",
    "\n",
    "#lines_per_polygon = lines_per_polygon[['NumeroZona', 'FE_VIA', 'final_potential']]\n",
    "#lines_per_polygon = lines_per_polygon.groupby(['NumeroZona'], as_index=False).sum()\n",
    "#return geodf_polygons.merge(right = lines_per_polygon, on = polygon_id_column,\n",
    "#                               how = 'left', suffixes = (\"\", \"\")).fillna(0)"
   ]
  },
  {
   "cell_type": "code",
   "execution_count": null,
   "metadata": {},
   "outputs": [],
   "source": []
  }
 ],
 "metadata": {
  "hide_input": false,
  "kernelspec": {
   "display_name": "Python 3",
   "language": "python",
   "name": "python3"
  },
  "language_info": {
   "codemirror_mode": {
    "name": "ipython",
    "version": 3
   },
   "file_extension": ".py",
   "mimetype": "text/x-python",
   "name": "python",
   "nbconvert_exporter": "python",
   "pygments_lexer": "ipython3",
   "version": "3.8.10"
  },
  "varInspector": {
   "cols": {
    "lenName": 16,
    "lenType": 16,
    "lenVar": 40
   },
   "kernels_config": {
    "python": {
     "delete_cmd_postfix": "",
     "delete_cmd_prefix": "del ",
     "library": "var_list.py",
     "varRefreshCmd": "print(var_dic_list())"
    },
    "r": {
     "delete_cmd_postfix": ") ",
     "delete_cmd_prefix": "rm(",
     "library": "var_list.r",
     "varRefreshCmd": "cat(var_dic_list()) "
    }
   },
   "types_to_exclude": [
    "module",
    "function",
    "builtin_function_or_method",
    "instance",
    "_Feature"
   ],
   "window_display": false
  }
 },
 "nbformat": 4,
 "nbformat_minor": 2
}
