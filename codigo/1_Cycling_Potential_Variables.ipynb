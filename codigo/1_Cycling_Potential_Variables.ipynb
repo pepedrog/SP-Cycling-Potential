version https://git-lfs.github.com/spec/v1
oid sha256:b79ca1080bc7a548d01f9aae4e271933b24839ab890db3d12b1e7f63e7e500cc
size 653158
