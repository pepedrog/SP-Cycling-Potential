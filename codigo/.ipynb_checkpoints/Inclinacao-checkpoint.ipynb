version https://git-lfs.github.com/spec/v1
oid sha256:1452eb15fc34f34463b38085f9a09d70c7cf75375b9349ccc81bca337c15dc05
size 364957
