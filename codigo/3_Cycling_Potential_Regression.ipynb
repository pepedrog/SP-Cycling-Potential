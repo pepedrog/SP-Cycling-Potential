version https://git-lfs.github.com/spec/v1
oid sha256:72ab532048c1007bb3772af380b767661924e016e1c7322becf0976147951b27
size 240082
