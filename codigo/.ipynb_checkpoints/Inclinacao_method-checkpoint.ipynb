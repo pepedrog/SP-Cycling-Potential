{
 "cells": [
  {
   "cell_type": "code",
   "execution_count": 1,
   "metadata": {
    "scrolled": false
   },
   "outputs": [
    {
     "ename": "ModuleNotFoundError",
     "evalue": "No module named 'bikescience.sp_grid'",
     "output_type": "error",
     "traceback": [
      "\u001b[0;31m---------------------------------------------------------------------------\u001b[0m",
      "\u001b[0;31mModuleNotFoundError\u001b[0m                       Traceback (most recent call last)",
      "\u001b[0;32m<ipython-input-1-255f1c226b7d>\u001b[0m in \u001b[0;36m<module>\u001b[0;34m\u001b[0m\n\u001b[0;32m----> 1\u001b[0;31m \u001b[0;32mimport\u001b[0m \u001b[0mbikescience\u001b[0m\u001b[0;34m.\u001b[0m\u001b[0msp_grid\u001b[0m \u001b[0;32mas\u001b[0m \u001b[0mgr\u001b[0m\u001b[0;34m\u001b[0m\u001b[0;34m\u001b[0m\u001b[0m\n\u001b[0m\u001b[1;32m      2\u001b[0m \u001b[0;32mimport\u001b[0m \u001b[0mbikescience\u001b[0m\u001b[0;34m.\u001b[0m\u001b[0mdistributions\u001b[0m \u001b[0;32mas\u001b[0m \u001b[0mdist\u001b[0m\u001b[0;34m\u001b[0m\u001b[0;34m\u001b[0m\u001b[0m\n\u001b[1;32m      3\u001b[0m \u001b[0;32mfrom\u001b[0m \u001b[0mbikescience\u001b[0m\u001b[0;34m.\u001b[0m\u001b[0mslope\u001b[0m \u001b[0;32mimport\u001b[0m \u001b[0mplot_slope\u001b[0m\u001b[0;34m,\u001b[0m \u001b[0mplot_slopes\u001b[0m\u001b[0;34m,\u001b[0m \u001b[0msplit_route\u001b[0m\u001b[0;34m\u001b[0m\u001b[0;34m\u001b[0m\u001b[0m\n\u001b[1;32m      4\u001b[0m \u001b[0;32mfrom\u001b[0m \u001b[0mshapely\u001b[0m\u001b[0;34m.\u001b[0m\u001b[0mgeometry\u001b[0m \u001b[0;32mimport\u001b[0m \u001b[0mLineString\u001b[0m\u001b[0;34m\u001b[0m\u001b[0;34m\u001b[0m\u001b[0m\n\u001b[1;32m      5\u001b[0m \u001b[0;32mimport\u001b[0m \u001b[0mast\u001b[0m\u001b[0;34m\u001b[0m\u001b[0;34m\u001b[0m\u001b[0m\n",
      "\u001b[0;31mModuleNotFoundError\u001b[0m: No module named 'bikescience.sp_grid'"
     ]
    }
   ],
   "source": [
    "import bikescience.sp_grid as gr\n",
    "import bikescience.distributions as dist\n",
    "from bikescience.slope import plot_slope, plot_slopes, split_route\n",
    "from shapely.geometry import LineString\n",
    "import ast\n",
    "import numpy as np\n",
    "\n",
    "import folium\n",
    "import pandas as pd\n",
    "import geopandas as gpd\n",
    "from statistics import stdev\n",
    "from ipywidgets import interact_manual, widgets, fixed\n",
    "from IPython.core.display import display, HTML, clear_output\n",
    "import matplotlib.pyplot as plt\n",
    "import matplotlib.ticker as tkr\n",
    "import warnings\n",
    "import requests\n",
    "import os\n",
    "warnings.simplefilter('ignore')\n",
    "import time\n",
    "import scipy.stats as st\n",
    "zone_shp = gpd.read_file('../data/sao-paulo/od/shapes/Zonas_2017_region.shp')\n",
    "zone_shp.crs = {'init': 'epsg:31983'}  \n",
    "zone_shp.to_crs(epsg='4326', inplace=True)\n",
    "\n",
    "#od_routes = pd.read_csv('../data/sao-paulo/od/routes.csv')\n",
    "od_routes_sp = gpd.read_file('../data/sao-paulo/od/routes/bike_routes_in_sp.shp')\n",
    "od_routes_sp.crs = {'init': 'epsg:4326'}\n",
    "\n",
    "#od_routes_all = gpd.read_file('../data/sao-paulo/od/routes/bike_routes_all.shp')\n",
    "#od_routes_all.crs = {'init': 'epsg:4326'}\n",
    "\n",
    "od_routes_sp['length'] = od_routes_sp['geometry'].length\n",
    "#display(od_routes_sp.sort_values('length').tail(5))\n",
    "\n",
    "route_stretchs_size = 500 #meters"
   ]
  },
  {
   "cell_type": "code",
   "execution_count": null,
   "metadata": {},
   "outputs": [],
   "source": [
    "sizes = [5000, 1000, 500, 200, 100, 'line']\n",
    "def show_slopes_widgets( routes, title = \"Declividade das rotas de viagens de bicicleta da OD 2017\"):\n",
    "    # transform the lambda code in string, so we can pass as a string widget\n",
    "    #pass the parameters as hidden widgets\n",
    "    im = interact_manual(\n",
    "        show_slopes,\n",
    "        routes = fixed(routes),\n",
    "        title = fixed(title),\n",
    "        absolute = widgets.Checkbox(value=False, description = 'Valor absoluto'),\n",
    "        size = widgets.Dropdown(options = sizes, value=500,\n",
    "                                 description = 'Trechos (em metros)')\n",
    "    )\n",
    "    im.widget.children[2].description = 'Gerar o mapa'\n",
    "    \n",
    "def show_slopes(routes, title, absolute, size):\n",
    "    fmap = gr.map_around_sp(the_grid=None,zoom=11,plot_grid=False)\n",
    "    folium.GeoJson(zone_shp.loc[zone_shp['NumeroMuni'] == 36],\n",
    "                   style_function = lambda x: {'color': 'black', 'weight': 0.5, 'fillOpacity': 0},\n",
    "                   name='Zonas', control=True).add_to(fmap)\n",
    "    plot_slopes(fmap, routes, size, absolute, title)\n",
    "    folium.LayerControl().add_to(fmap)\n",
    "    file = 'maps/slopes_' + str(size) + '.html'\n",
    "    fmap.save(file)\n",
    "    display(HTML('Salvo em <a href=\"' + file + '\" target=\"_blank\">' + file + '</a>'))\n",
    "    display(fmap)"
   ]
  },
  {
   "cell_type": "code",
   "execution_count": null,
   "metadata": {
    "scrolled": false
   },
   "outputs": [],
   "source": [
    "show_slopes_widgets(od_routes_sp['geometry'])"
   ]
  },
  {
   "cell_type": "code",
   "execution_count": null,
   "metadata": {},
   "outputs": [],
   "source": [
    "genders = {1: 'm', 2: 'f', 'm': 'm', 'f': 'f'}\n",
    "\n",
    "distribs = {\n",
    "    'distance_m':    (st.invweibull, (1.9624908421440037, -1358.5912359607478, 3558.697966253873)),\n",
    "    'distance_f':    (st.johnsonsu,  (-1.6348791801316755, 0.8220563043475115, 599.1107992085285, 401.86433888871386)),\n",
    "    'age_m':         (st.gausshyper, (5.279282420419191, 9.427435120845999, 1.7042238760442698, -0.6290314796750072, -9.35105798112198, 113.89907371835868)),\n",
    "    'age_f':         (st.loggamma,   (897.3569843061273, -2332.923603808461, 347.1732584129129)),\n",
    "    'slope_0_m':     (st.halfgennorm, (0.5938931306470469, -0.24400150361767925, 331.4710613095754)) ,\n",
    "    'slope_1_m':     (st.wald, (-104.76240577720931, 685.9786628776621)) ,\n",
    "    'slope_2_m':     (st.invgauss, (2.108522364223588, -32.82673098772308, 182.06556527798517)) ,\n",
    "    'slope_3_m':     (st.invgauss, (2.688687820077516, -21.13444964695273, 97.67944984207021)) ,\n",
    "    'slope_4_m':     (st.invgauss, (5.502101429028432, -8.13123108843531, 30.571313764443463)) ,\n",
    "    'slope_5_m':     (st.halfcauchy, (-1.4470696301679076e-08, 44.668468802008306)) ,\n",
    "    'slope_6_m':     (st.beta, (0.8131995575475309, 331.1621037526766, -1.631515678560271e-25, 20738.671835648325)) ,\n",
    "    'slope_7_m':     (st.foldcauchy, (0.0944460919704757, -0.7864682761930095, 9.393897207087463)) ,\n",
    "    'slope_8_m':     (st.foldcauchy, (0.00673535113084469, -3.1474534806095553e-09, 4.321341682356357)) ,\n",
    "    'slope_9_m':     (st.pearson3, (2.2573136160688976, 10.607177295812832, 11.97186286894759)) ,\n",
    "    'slope_10_m':    (st.wald, (-4.043061534826781, 14.276893670640046)),\n",
    "    'slope_0_f':     (st.exponpow, (0.5605940467562757, -1.8784725802483102e-25, 1565.4492572779232)),\n",
    "    'slope_1_f':     (st.gengamma, (0.590524483516389, 1.0275914711243868, -8.664310862508725e-28, 677.519552928482)),\n",
    "    'slope_2_f':     (st.gengamma, (0.47380391166676794, 1.1693288358580536, -8.062714753528154e-30, 406.8704200176831)),\n",
    "    'slope_3_f':     (st.halfcauchy, (-1.6974581783015064e-09, 59.79317588661688)),\n",
    "    'slope_4_f':     (st.halfcauchy, (-1.9353863324140777e-10, 5.523495637773543)),\n",
    "    'slope_5_f':     (st.gilbrat, (-8.883473023487747, 29.8148343960495)),\n",
    "    'slope_6_f':     (st.gilbrat, (-6.238336526524279, 19.324184822768018)),\n",
    "    'slope_7_f':     (st.pearson3, (2.2988440861319095, 15.545779168414187, 17.868661252810796)),\n",
    "    'slope_8_f':     (st.wald, (-6.11511658910011, 21.926956014811573)),\n",
    "    'slope_9_f':     (st.wald, (-3.6592002310221847, 12.678789700411755)),\n",
    "    'slope_10_f':    (st.gilbrat, (-1.3698237608138852, 3.9046811037876776))\n",
    "}\n",
    "\n",
    "def scale_potential_to_1 (x, distribution, param):\n",
    "    d = dist.make_pdf(distribution, param)\n",
    "    max_value = max (x for x in d)\n",
    "    \n",
    "    y = distribution.pdf(x, *param)\n",
    "    return y / max_value\n",
    "\n",
    "def partial_cycling_potential (variable, gender, value):\n",
    "    d = distribs[variable + '_' + genders[gender]]\n",
    "    return scale_potential_to_1 (value, d[0], d[1])\n",
    "\n",
    "def inclination_potential (meters_per_degree, gender):\n",
    "    meters_dict = meters_per_degree(route)\n",
    "    potential = 0\n",
    "    weights = 0\n",
    "    for degree, meters in meters_dict.items():\n",
    "        d = int(degree)\n",
    "        if (d > 0): \n",
    "            weights += d\n",
    "            potential_value = partial_cycling_potential ('slope_' + degree, gender, meters) \n",
    "            potential += (1 - potential_value) * d\n",
    "    \n",
    "    if weights == 0:\n",
    "        return 0\n",
    "    return potential / weights"
   ]
  },
  {
   "cell_type": "code",
   "execution_count": null,
   "metadata": {},
   "outputs": [],
   "source": [
    "d_male = []\n",
    "d_fem = []\n",
    "for m in range(500, 0, -10):\n",
    "    dm = []\n",
    "    df = []\n",
    "    for i in range(-10, 1):\n",
    "        dm.append(1)\n",
    "        df.append(1)\n",
    "    for i in range(1, 11):\n",
    "        dm.append(partial_cycling_potential('slope_' + str(i), 'm', m))\n",
    "        df.append(partial_cycling_potential('slope_' + str(i), 'f', m))\n",
    "    d_male.append(dm)\n",
    "    d_fem.append(df)\n",
    "\n",
    "valuesm = np.array(d_male)\n",
    "valuesf = np.array(d_fem)\n",
    "x = [str(i) for i in range(-10, 11)]\n",
    "y = [str(i) for i in range(500, 0, -10)]"
   ]
  },
  {
   "cell_type": "code",
   "execution_count": null,
   "metadata": {
    "scrolled": false
   },
   "outputs": [],
   "source": [
    "\n",
    "from mpl_toolkits.axes_grid1 import make_axes_locatable\n",
    "fig, ax = plt.subplots(figsize=(10,20))\n",
    "im = ax.imshow(valuesm)\n",
    "ax.set_xticks(np.arange(len(x)))\n",
    "ax.set_yticks(np.arange(len(y)))\n",
    "ax.set_xticklabels(x)\n",
    "ax.set_yticklabels(y)\n",
    "plt.setp(ax.get_xticklabels(), rotation=45, ha=\"right\",\n",
    "         rotation_mode=\"anchor\")\n",
    "\n",
    "ax.set_title(\"Meters traveled in each inclination level\")\n",
    "divider = make_axes_locatable(ax)\n",
    "cax = divider.append_axes(\"right\", size=\"5%\", pad=0.05)\n",
    "plt.colorbar(im, cax=cax)\n",
    "plt.show()\n",
    "\n",
    "fig, ax = plt.subplots(figsize=(10,20))\n",
    "im = ax.imshow(valuesf)\n",
    "ax.set_xticks(np.arange(len(x)))\n",
    "ax.set_yticks(np.arange(len(y)))\n",
    "ax.set_xticklabels(x)\n",
    "ax.set_yticklabels(y)\n",
    "\n",
    "plt.setp(ax.get_xticklabels(), rotation=45, ha=\"right\",\n",
    "         rotation_mode=\"anchor\")\n",
    "\n",
    "ax.set_title(\"Meters traveled in each inclination level\")\n",
    "divider = make_axes_locatable(ax)\n",
    "cax = divider.append_axes(\"right\", size=\"5%\", pad=0.05)\n",
    "\n",
    "plt.colorbar(im, cax=cax)\n",
    "plt.show()\n",
    "\n"
   ]
  },
  {
   "cell_type": "code",
   "execution_count": null,
   "metadata": {},
   "outputs": [],
   "source": []
  }
 ],
 "metadata": {
  "hide_input": false,
  "kernelspec": {
   "display_name": "Python 3",
   "language": "python",
   "name": "python3"
  },
  "language_info": {
   "codemirror_mode": {
    "name": "ipython",
    "version": 3
   },
   "file_extension": ".py",
   "mimetype": "text/x-python",
   "name": "python",
   "nbconvert_exporter": "python",
   "pygments_lexer": "ipython3",
   "version": "3.8.10"
  },
  "varInspector": {
   "cols": {
    "lenName": 16,
    "lenType": 16,
    "lenVar": 40
   },
   "kernels_config": {
    "python": {
     "delete_cmd_postfix": "",
     "delete_cmd_prefix": "del ",
     "library": "var_list.py",
     "varRefreshCmd": "print(var_dic_list())"
    },
    "r": {
     "delete_cmd_postfix": ") ",
     "delete_cmd_prefix": "rm(",
     "library": "var_list.r",
     "varRefreshCmd": "cat(var_dic_list()) "
    }
   },
   "types_to_exclude": [
    "module",
    "function",
    "builtin_function_or_method",
    "instance",
    "_Feature"
   ],
   "window_display": false
  }
 },
 "nbformat": 4,
 "nbformat_minor": 2
}
