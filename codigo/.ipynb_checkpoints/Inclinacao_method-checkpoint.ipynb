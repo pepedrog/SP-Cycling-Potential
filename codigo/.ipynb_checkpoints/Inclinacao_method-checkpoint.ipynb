version https://git-lfs.github.com/spec/v1
oid sha256:e76631387eb03ce0dd1cde9ae62f7666850d4b418cd3e7160244fcbb3507d55d
size 43627
