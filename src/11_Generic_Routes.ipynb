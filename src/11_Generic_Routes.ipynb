{
 "cells": [
  {
   "cell_type": "markdown",
   "id": "d94257f2",
   "metadata": {},
   "source": [
    "# General Routes\n",
    "\n",
    "This notebooks calculates the cycling potential of any route.\n",
    "\n",
    "It uses the Open Street Map API to get the coordinates of a given adress, and integrates with Graph Hopper API to generate the bicycle routes to connect the origin and destination\n",
    "\n",
    "It also generate a json file that can be read in a web-page to visualize the trip. "
   ]
  },
  {
   "cell_type": "code",
   "execution_count": 1,
   "id": "c5cb19e9",
   "metadata": {},
   "outputs": [
    {
     "name": "stderr",
     "output_type": "stream",
     "text": [
      "/home/pedro/.local/lib/python3.8/site-packages/geopandas/_compat.py:106: UserWarning: The Shapely GEOS version (3.8.0-CAPI-1.13.1 ) is incompatible with the GEOS version PyGEOS was compiled with (3.9.0-CAPI-1.16.2). Conversions between both will be slow.\n",
      "  warnings.warn(\n"
     ]
    }
   ],
   "source": [
    "import requests\n",
    "import urllib.parse\n",
    "import geopandas as gpd\n",
    "import pandas as pd\n",
    "from shapely.geometry import Point, LineString\n",
    "import ast\n",
    "import matplotlib.pyplot as plt\n",
    "from ipywidgets import interact_manual, widgets, fixed\n",
    "\n",
    "import saopaulo.cycling_potential as cp\n",
    "from bikescience.slope import plot_slope, plot_slopes, split_route\n",
    "\n",
    "geocode_api_url = 'https://nominatim.openstreetmap.org/search/'\n",
    "graph_hopper_url = 'https://graphhopper.com/api/1/route'\n",
    "graph_hopper_key = 'bb4601e7-696d-4b91-a809-4b1b8256b2a8'"
   ]
  },
  {
   "cell_type": "code",
   "execution_count": 2,
   "id": "97edbd92",
   "metadata": {},
   "outputs": [],
   "source": [
    "# returns [lat, lon] from given address\n",
    "# returns None if not found\n",
    "def get_coordinates (address : str):\n",
    "    address = urllib.parse.quote(address)\n",
    "    url = geocode_api_url + address + '?format=json'\n",
    "    \n",
    "    response = requests.get(url)\n",
    "    if response.status_code != 200 or response.json() == []: \n",
    "        return None\n",
    "        \n",
    "    lat = response.json()[0]['lat']\n",
    "    lon = response.json()[0]['lon']\n",
    "    return [lat, lon]\n",
    "\n",
    "#get_coordinates('Avenida Cupecê, 6062')"
   ]
  },
  {
   "cell_type": "code",
   "execution_count": 3,
   "id": "cf38f19e",
   "metadata": {},
   "outputs": [],
   "source": [
    "# generate a route in the format expected for the cycling potential function\n",
    "def get_route_from_coordinates (origin, destination):\n",
    "    url =  graph_hopper_url + '?key=' + graph_hopper_key + '&point={},{}&point={},{}&' + \\\n",
    "           'vehicle=bike&elevation=true&type=json&points_encoded=false'\n",
    "\n",
    "    result = requests.get(url.format(origin[0], origin[1],destination[0],destination[1]))\n",
    "    if result.status_code == 200:\n",
    "        path = result.json()['paths'][0]\n",
    "        route = path['points']['coordinates']\n",
    "        \n",
    "        geo = LineString(route)\n",
    "        \n",
    "        df = [origin[0], origin[1], destination[0], destination[1], 'm', 30]\n",
    "        columns = ['lat_ori', 'lon_ori', 'lat_dest', 'lon_dest', 'SEXO', 'IDADE']\n",
    "        gdf = gpd.GeoDataFrame([df], crs={'init': 'epsg:4326'}, \n",
    "                              geometry=[geo], columns = columns)\n",
    "        return gdf.iloc[0]\n",
    "    \n",
    "def get_route_from_address (address_ori : str, address_dest : str):\n",
    "    coord_ori = get_coordinates(address_ori)\n",
    "    if coord_ori == None: return None\n",
    "    coord_dest = get_coordinates(address_dest)\n",
    "    if coord_dest == None: return None\n",
    "    return get_route_from_coordinates (coord_ori, coord_dest)"
   ]
  },
  {
   "cell_type": "code",
   "execution_count": 22,
   "id": "17fb7709",
   "metadata": {},
   "outputs": [],
   "source": [
    "origin = 'Avenida Cupecê 6062' # 'R. Artur de Azevedo, 1589 '\n",
    "dest = 'Rua Capricórnio, Santo André' # 'Av. Prof. Luciano Gualberto, 1171'\n",
    "route = get_route_from_address(origin, dest)"
   ]
  },
  {
   "cell_type": "code",
   "execution_count": 23,
   "id": "859d037f",
   "metadata": {},
   "outputs": [
    {
     "name": "stdout",
     "output_type": "stream",
     "text": [
      "lat_ori                                   -23.684187899999998\n",
      "lon_ori                                   -46.633963413488985\n",
      "lat_dest                                          -23.6529503\n",
      "lon_dest                                          -46.5473512\n",
      "SEXO                                                        m\n",
      "IDADE                                                      30\n",
      "geometry    LINESTRING Z (-46.633769 -23.683937 823.47, -4...\n",
      "Name: 0, dtype: object\n"
     ]
    }
   ],
   "source": [
    "print(route)"
   ]
  },
  {
   "cell_type": "code",
   "execution_count": 6,
   "id": "c05e4f76",
   "metadata": {},
   "outputs": [],
   "source": [
    "def cycling_potential(route, gender = 'm'):\n",
    "    route['SEXO'] = gender\n",
    "    route['length'] = route['geometry'].length * 100000\n",
    "    pot = cp.cycling_potential_variables(route)\n",
    "    pot_distance = pot[0]\n",
    "    pot_inclination = pot[2]\n",
    "    potential = (pot_distance + pot_inclination) / float(2)\n",
    "    return [pot_distance, pot_inclination, potential]"
   ]
  },
  {
   "cell_type": "code",
   "execution_count": 25,
   "id": "b35ca8d1",
   "metadata": {},
   "outputs": [],
   "source": [
    "def generate_images (route):\n",
    "    r_split = split_route(route['geometry'], 10)\n",
    "    heights = [line[0].coords[0][2] for line in r_split]\n",
    "    slopes = [line[1] for line in r_split]\n",
    "    lengths = [i * 10 for i in range(len(heights))]\n",
    "\n",
    "    plt.figure(figsize=(15,5))\n",
    "    plt.plot(lengths, heights, label='altitude')\n",
    "    plt.ylabel('altitude (metros)')\n",
    "    plt.xlabel('metros')\n",
    "    #plt.axis('scaled')\n",
    "    plt.ylim(700, 900)\n",
    "    plt.savefig('../pagina_web/images/altitude_0000')\n",
    "    \n",
    "    \n",
    "    plt.plot(lengths, heights, label='altitude')\n",
    "    plt.ylabel('altitude (meters)')\n",
    "    plt.xlabel('meters')\n",
    "    plt.savefig('../pagina_web/images/en_altitude_0000')\n",
    "    #plt.show()\n",
    "\n",
    "def distance_per_inclination (route):\n",
    "    r_split = split_route(route, 10)\n",
    "    slopes = [line[1] for line in r_split]\n",
    "    slopes_incl = [0,0,0,0,0]\n",
    "    for s in slopes:\n",
    "        if round(s) <= 0:\n",
    "            slopes_incl[0] += 10\n",
    "        elif round(s) <= 2:\n",
    "            slopes_incl[1] += 10\n",
    "        elif round(s) <= 4:\n",
    "            slopes_incl[2] += 10\n",
    "        elif round(s) <= 6:\n",
    "            slopes_incl[3] += 10\n",
    "        else:\n",
    "            slopes_incl[4] += 10        \n",
    "    return slopes_incl\n",
    "    \n",
    "def color_inclination (i):\n",
    "        if i > 7:\n",
    "            return 'black'\n",
    "        elif i > 5:\n",
    "            return '#982123'\n",
    "        elif i > 3:\n",
    "            return '#D03F2E'\n",
    "        elif i > 1:\n",
    "            return '#F1C359'\n",
    "        elif i > -1:\n",
    "            return 'yellow'\n",
    "        elif i > -3:\n",
    "            return '#94C280'\n",
    "        elif i > -5:\n",
    "            return '#0C9CB4'\n",
    "        else:\n",
    "            return '#025189'\n",
    "    \n",
    "def route_to_json (route, gender = 'm'):\n",
    "    pot = cycling_potential(route, gender)\n",
    "    print(pot)\n",
    "    json = \"\"\"\n",
    "    {\n",
    "        \"id\": \"0000\",\n",
    "        \"dist_pot\": \" \"\"\" + str(round(pot[0], 3)) + \"\"\" \",\n",
    "        \"incl_pot\": \" \"\"\" + str(round(pot[1], 3)) + \"\"\" \",\n",
    "        \"final_pot\": \" \"\"\" + str(round(pot[2], 3)) + \"\"\" \",\n",
    "        \"distance\": \" \"\"\" + str(round(route['length'])) + \"\"\" \" , \"\"\"\n",
    "    dists = distance_per_inclination(route['geometry'])\n",
    "    for i in range(len(dists)):\n",
    "        json += \"\"\" \"distance_\"\"\" + str(i) + \"\"\"\\\" : \" \"\"\" + str(dists[i]) + \"\"\" \", \"\"\"\n",
    "    json += \"\"\"\n",
    "        \"route\":\n",
    "        [\n",
    "    \"\"\"\n",
    "    stretchs_slope = split_route(route['geometry'], 100, False)\n",
    "    for s in stretchs_slope:\n",
    "        json += \\\n",
    "            \"\"\"\n",
    "    {\n",
    "        \"type\": \"Feature\",\n",
    "        \"properties\": {\n",
    "            \"color\": \" \"\"\" + color_inclination(s[1]) + \"\"\" \"\n",
    "        },\n",
    "        \"geometry\": {\n",
    "            \"type\": \"LineString\",\n",
    "            \"coordinates\": \n",
    "            [\n",
    "            \"\"\"\n",
    "        for p in range(len(s[0].coords)):\n",
    "            json += '[' + str(s[0].coords[p][0]) + ', ' + str(s[0].coords[p][1]) + ']'\n",
    "            if (p < len(s[0].coords)):\n",
    "                json += ','\n",
    "            json += '\\n'\n",
    "\n",
    "        json += '] \\n } \\n },'\n",
    "    json += '\\n ] }'\n",
    "    return json\n",
    "\n",
    "def save_routes_json(route, gender = 'm'):\n",
    "    json = 'var rota_generica = ['\n",
    "    json += route_to_json (route, gender) + ','\n",
    "    json += ']'\n",
    "    with open('../pagina_web/formulario/rotas/rota_generica.js', \"w\") as text_file:\n",
    "        text_file.write(json)"
   ]
  },
  {
   "cell_type": "code",
   "execution_count": 8,
   "id": "6dc8d56d",
   "metadata": {},
   "outputs": [],
   "source": [
    "#route_to_json(route).replace('\\n','')"
   ]
  },
  {
   "cell_type": "code",
   "execution_count": 9,
   "id": "072747b9",
   "metadata": {},
   "outputs": [
    {
     "data": {
      "image/png": "[encoded data removed]",
      "text/plain": [
       "<Figure size 1080x360 with 1 Axes>"
      ]
     },
     "metadata": {
      "needs_background": "light"
     },
     "output_type": "display_data"
    }
   ],
   "source": [
    "save_routes_json(route)\n",
    "generate_images(route)"
   ]
  },
  {
   "cell_type": "code",
   "execution_count": 24,
   "id": "5d85c03b",
   "metadata": {},
   "outputs": [],
   "source": [
    "def process_maps_image(origin, dest, gender = 'm'):\n",
    "    route = get_route_from_address(origin, dest)\n",
    "    if route is not None:\n",
    "        save_routes_json(route, gender)\n",
    "        generate_images(route)"
   ]
  },
  {
   "cell_type": "code",
   "execution_count": 11,
   "id": "94e940a7",
   "metadata": {},
   "outputs": [],
   "source": [
    "def process_route_adress():\n",
    "    \n",
    "    width = '70px'\n",
    "    layout = widgets.Layout(width = '1000px')\n",
    "    \n",
    "    im = interact_manual(\n",
    "        process_maps_image,\n",
    "        origin = widgets.Text(description = 'Origin', style={'description_width': width}),\n",
    "        dest = widgets.Text(description = 'Destination', style={'description_width': width}),\n",
    "        gender = widgets.Dropdown(options = [('Male', 1), ('Female', 2)],\n",
    "                                 description = 'Gender', style={'description_width': width}))\n",
    "    im.widget.children[3].description = 'Process'"
   ]
  },
  {
   "cell_type": "code",
   "execution_count": 12,
   "id": "bd088b80",
   "metadata": {},
   "outputs": [
    {
     "data": {
      "application/vnd.jupyter.widget-view+json": {
       "model_id": "52eed59d07494734b8d8284cc4a5ba2b",
       "version_major": 2,
       "version_minor": 0
      },
      "text/plain": [
       "interactive(children=(Text(value='', description='Origin', style=DescriptionStyle(description_width='70px')), …"
      ]
     },
     "metadata": {},
     "output_type": "display_data"
    }
   ],
   "source": [
    "process_route_adress()"
   ]
  },
  {
   "cell_type": "code",
   "execution_count": null,
   "id": "0092f5f7",
   "metadata": {},
   "outputs": [],
   "source": []
  }
 ],
 "metadata": {
  "kernelspec": {
   "display_name": "Python 3",
   "language": "python",
   "name": "python3"
  },
  "language_info": {
   "codemirror_mode": {
    "name": "ipython",
    "version": 3
   },
   "file_extension": ".py",
   "mimetype": "text/x-python",
   "name": "python",
   "nbconvert_exporter": "python",
   "pygments_lexer": "ipython3",
   "version": "3.8.10"
  }
 },
 "nbformat": 4,
 "nbformat_minor": 5
}
