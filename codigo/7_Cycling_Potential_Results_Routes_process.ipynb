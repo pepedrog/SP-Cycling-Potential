version https://git-lfs.github.com/spec/v1
oid sha256:ffb3dccf290f9e8270c6f3a24390d7a034c98ca3f38cf5d251ec5fb01106a779
size 42570
